{
 "cells": [
  {
   "cell_type": "code",
   "execution_count": 1,
   "id": "1c92a740",
   "metadata": {},
   "outputs": [
    {
     "name": "stdout",
     "output_type": "stream",
     "text": [
      "Defaulting to user installation because normal site-packages is not writeable\n",
      "Requirement already satisfied: tensorflow in c:\\users\\acer\\appdata\\roaming\\python\\python310\\site-packages (2.12.0)\n",
      "Collecting tensorflow-gpu\n",
      "  Using cached tensorflow-gpu-2.12.0.tar.gz (2.6 kB)\n",
      "  Preparing metadata (setup.py): started\n",
      "  Preparing metadata (setup.py): finished with status 'done'\n",
      "Requirement already satisfied: opencv-python in c:\\users\\acer\\appdata\\roaming\\python\\python310\\site-packages (4.7.0.72)\n",
      "Requirement already satisfied: mediapipe in c:\\users\\acer\\appdata\\roaming\\python\\python310\\site-packages (0.9.2.1)\n",
      "Requirement already satisfied: sklearn in c:\\users\\acer\\appdata\\roaming\\python\\python310\\site-packages (0.0.post1)\n",
      "Requirement already satisfied: matplotlib in c:\\users\\acer\\appdata\\roaming\\python\\python310\\site-packages (3.7.1)\n",
      "Requirement already satisfied: tensorflow-intel==2.12.0 in c:\\users\\acer\\appdata\\roaming\\python\\python310\\site-packages (from tensorflow) (2.12.0)\n",
      "Requirement already satisfied: absl-py>=1.0.0 in c:\\users\\acer\\appdata\\roaming\\python\\python310\\site-packages (from tensorflow-intel==2.12.0->tensorflow) (1.4.0)\n",
      "Requirement already satisfied: astunparse>=1.6.0 in c:\\users\\acer\\appdata\\roaming\\python\\python310\\site-packages (from tensorflow-intel==2.12.0->tensorflow) (1.6.3)\n",
      "Requirement already satisfied: flatbuffers>=2.0 in c:\\users\\acer\\appdata\\roaming\\python\\python310\\site-packages (from tensorflow-intel==2.12.0->tensorflow) (23.3.3)\n",
      "Requirement already satisfied: gast<=0.4.0,>=0.2.1 in c:\\users\\acer\\appdata\\roaming\\python\\python310\\site-packages (from tensorflow-intel==2.12.0->tensorflow) (0.4.0)\n",
      "Requirement already satisfied: google-pasta>=0.1.1 in c:\\users\\acer\\appdata\\roaming\\python\\python310\\site-packages (from tensorflow-intel==2.12.0->tensorflow) (0.2.0)\n",
      "Requirement already satisfied: h5py>=2.9.0 in c:\\programdata\\anaconda3\\lib\\site-packages (from tensorflow-intel==2.12.0->tensorflow) (3.7.0)\n",
      "Requirement already satisfied: jax>=0.3.15 in c:\\users\\acer\\appdata\\roaming\\python\\python310\\site-packages (from tensorflow-intel==2.12.0->tensorflow) (0.4.8)\n",
      "Requirement already satisfied: libclang>=13.0.0 in c:\\users\\acer\\appdata\\roaming\\python\\python310\\site-packages (from tensorflow-intel==2.12.0->tensorflow) (16.0.0)\n",
      "Requirement already satisfied: numpy<1.24,>=1.22 in c:\\programdata\\anaconda3\\lib\\site-packages (from tensorflow-intel==2.12.0->tensorflow) (1.23.5)\n",
      "Requirement already satisfied: opt-einsum>=2.3.2 in c:\\users\\acer\\appdata\\roaming\\python\\python310\\site-packages (from tensorflow-intel==2.12.0->tensorflow) (3.3.0)\n",
      "Requirement already satisfied: packaging in c:\\programdata\\anaconda3\\lib\\site-packages (from tensorflow-intel==2.12.0->tensorflow) (22.0)\n",
      "Requirement already satisfied: protobuf!=4.21.0,!=4.21.1,!=4.21.2,!=4.21.3,!=4.21.4,!=4.21.5,<5.0.0dev,>=3.20.3 in c:\\users\\acer\\appdata\\roaming\\python\\python310\\site-packages (from tensorflow-intel==2.12.0->tensorflow) (3.20.3)\n",
      "Requirement already satisfied: setuptools in c:\\programdata\\anaconda3\\lib\\site-packages (from tensorflow-intel==2.12.0->tensorflow) (65.6.3)\n",
      "Requirement already satisfied: six>=1.12.0 in c:\\programdata\\anaconda3\\lib\\site-packages (from tensorflow-intel==2.12.0->tensorflow) (1.16.0)\n",
      "Requirement already satisfied: termcolor>=1.1.0 in c:\\users\\acer\\appdata\\roaming\\python\\python310\\site-packages (from tensorflow-intel==2.12.0->tensorflow) (2.2.0)\n",
      "Requirement already satisfied: typing-extensions>=3.6.6 in c:\\programdata\\anaconda3\\lib\\site-packages (from tensorflow-intel==2.12.0->tensorflow) (4.4.0)\n",
      "Requirement already satisfied: wrapt<1.15,>=1.11.0 in c:\\programdata\\anaconda3\\lib\\site-packages (from tensorflow-intel==2.12.0->tensorflow) (1.14.1)\n",
      "Requirement already satisfied: grpcio<2.0,>=1.24.3 in c:\\users\\acer\\appdata\\roaming\\python\\python310\\site-packages (from tensorflow-intel==2.12.0->tensorflow) (1.53.0)\n",
      "Requirement already satisfied: tensorboard<2.13,>=2.12 in c:\\users\\acer\\appdata\\roaming\\python\\python310\\site-packages (from tensorflow-intel==2.12.0->tensorflow) (2.12.1)\n",
      "Requirement already satisfied: tensorflow-estimator<2.13,>=2.12.0 in c:\\users\\acer\\appdata\\roaming\\python\\python310\\site-packages (from tensorflow-intel==2.12.0->tensorflow) (2.12.0)\n",
      "Requirement already satisfied: keras<2.13,>=2.12.0 in c:\\users\\acer\\appdata\\roaming\\python\\python310\\site-packages (from tensorflow-intel==2.12.0->tensorflow) (2.12.0)\n",
      "Requirement already satisfied: tensorflow-io-gcs-filesystem>=0.23.1 in c:\\users\\acer\\appdata\\roaming\\python\\python310\\site-packages (from tensorflow-intel==2.12.0->tensorflow) (0.31.0)\n",
      "Requirement already satisfied: python_version>\"3.7\" in c:\\users\\acer\\appdata\\roaming\\python\\python310\\site-packages (from tensorflow-gpu) (0.0.2)\n",
      "Requirement already satisfied: attrs>=19.1.0 in c:\\programdata\\anaconda3\\lib\\site-packages (from mediapipe) (22.1.0)\n",
      "Requirement already satisfied: opencv-contrib-python in c:\\users\\acer\\appdata\\roaming\\python\\python310\\site-packages (from mediapipe) (4.7.0.72)\n",
      "Requirement already satisfied: contourpy>=1.0.1 in c:\\programdata\\anaconda3\\lib\\site-packages (from matplotlib) (1.0.5)\n",
      "Requirement already satisfied: cycler>=0.10 in c:\\programdata\\anaconda3\\lib\\site-packages (from matplotlib) (0.11.0)\n",
      "Requirement already satisfied: fonttools>=4.22.0 in c:\\programdata\\anaconda3\\lib\\site-packages (from matplotlib) (4.25.0)\n",
      "Requirement already satisfied: kiwisolver>=1.0.1 in c:\\programdata\\anaconda3\\lib\\site-packages (from matplotlib) (1.4.4)\n",
      "Requirement already satisfied: pillow>=6.2.0 in c:\\programdata\\anaconda3\\lib\\site-packages (from matplotlib) (9.4.0)\n",
      "Requirement already satisfied: pyparsing>=2.3.1 in c:\\programdata\\anaconda3\\lib\\site-packages (from matplotlib) (3.0.9)\n",
      "Requirement already satisfied: python-dateutil>=2.7 in c:\\programdata\\anaconda3\\lib\\site-packages (from matplotlib) (2.8.2)\n",
      "Requirement already satisfied: wheel<1.0,>=0.23.0 in c:\\programdata\\anaconda3\\lib\\site-packages (from astunparse>=1.6.0->tensorflow-intel==2.12.0->tensorflow) (0.38.4)\n",
      "Requirement already satisfied: ml-dtypes>=0.0.3 in c:\\users\\acer\\appdata\\roaming\\python\\python310\\site-packages (from jax>=0.3.15->tensorflow-intel==2.12.0->tensorflow) (0.0.4)\n",
      "Requirement already satisfied: scipy>=1.7 in c:\\users\\acer\\appdata\\roaming\\python\\python310\\site-packages (from jax>=0.3.15->tensorflow-intel==2.12.0->tensorflow) (1.10.1)\n",
      "Requirement already satisfied: google-auth<3,>=1.6.3 in c:\\users\\acer\\appdata\\roaming\\python\\python310\\site-packages (from tensorboard<2.13,>=2.12->tensorflow-intel==2.12.0->tensorflow) (2.17.2)\n",
      "Requirement already satisfied: google-auth-oauthlib<1.1,>=0.5 in c:\\users\\acer\\appdata\\roaming\\python\\python310\\site-packages (from tensorboard<2.13,>=2.12->tensorflow-intel==2.12.0->tensorflow) (1.0.0)\n",
      "Requirement already satisfied: markdown>=2.6.8 in c:\\programdata\\anaconda3\\lib\\site-packages (from tensorboard<2.13,>=2.12->tensorflow-intel==2.12.0->tensorflow) (3.4.1)\n",
      "Requirement already satisfied: requests<3,>=2.21.0 in c:\\programdata\\anaconda3\\lib\\site-packages (from tensorboard<2.13,>=2.12->tensorflow-intel==2.12.0->tensorflow) (2.28.1)\n",
      "Requirement already satisfied: tensorboard-data-server<0.8.0,>=0.7.0 in c:\\users\\acer\\appdata\\roaming\\python\\python310\\site-packages (from tensorboard<2.13,>=2.12->tensorflow-intel==2.12.0->tensorflow) (0.7.0)\n",
      "Requirement already satisfied: tensorboard-plugin-wit>=1.6.0 in c:\\users\\acer\\appdata\\roaming\\python\\python310\\site-packages (from tensorboard<2.13,>=2.12->tensorflow-intel==2.12.0->tensorflow) (1.8.1)\n",
      "Requirement already satisfied: werkzeug>=1.0.1 in c:\\programdata\\anaconda3\\lib\\site-packages (from tensorboard<2.13,>=2.12->tensorflow-intel==2.12.0->tensorflow) (2.2.2)\n",
      "Requirement already satisfied: cachetools<6.0,>=2.0.0 in c:\\users\\acer\\appdata\\roaming\\python\\python310\\site-packages (from google-auth<3,>=1.6.3->tensorboard<2.13,>=2.12->tensorflow-intel==2.12.0->tensorflow) (5.3.0)\n",
      "Requirement already satisfied: pyasn1-modules>=0.2.1 in c:\\programdata\\anaconda3\\lib\\site-packages (from google-auth<3,>=1.6.3->tensorboard<2.13,>=2.12->tensorflow-intel==2.12.0->tensorflow) (0.2.8)\n",
      "Requirement already satisfied: rsa<5,>=3.1.4 in c:\\users\\acer\\appdata\\roaming\\python\\python310\\site-packages (from google-auth<3,>=1.6.3->tensorboard<2.13,>=2.12->tensorflow-intel==2.12.0->tensorflow) (4.9)\n",
      "Requirement already satisfied: requests-oauthlib>=0.7.0 in c:\\users\\acer\\appdata\\roaming\\python\\python310\\site-packages (from google-auth-oauthlib<1.1,>=0.5->tensorboard<2.13,>=2.12->tensorflow-intel==2.12.0->tensorflow) (1.3.1)\n",
      "Requirement already satisfied: charset-normalizer<3,>=2 in c:\\programdata\\anaconda3\\lib\\site-packages (from requests<3,>=2.21.0->tensorboard<2.13,>=2.12->tensorflow-intel==2.12.0->tensorflow) (2.0.4)\n",
      "Requirement already satisfied: idna<4,>=2.5 in c:\\programdata\\anaconda3\\lib\\site-packages (from requests<3,>=2.21.0->tensorboard<2.13,>=2.12->tensorflow-intel==2.12.0->tensorflow) (3.4)\n",
      "Requirement already satisfied: urllib3<1.27,>=1.21.1 in c:\\programdata\\anaconda3\\lib\\site-packages (from requests<3,>=2.21.0->tensorboard<2.13,>=2.12->tensorflow-intel==2.12.0->tensorflow) (1.26.14)\n",
      "Requirement already satisfied: certifi>=2017.4.17 in c:\\programdata\\anaconda3\\lib\\site-packages (from requests<3,>=2.21.0->tensorboard<2.13,>=2.12->tensorflow-intel==2.12.0->tensorflow) (2022.12.7)\n",
      "Requirement already satisfied: MarkupSafe>=2.1.1 in c:\\programdata\\anaconda3\\lib\\site-packages (from werkzeug>=1.0.1->tensorboard<2.13,>=2.12->tensorflow-intel==2.12.0->tensorflow) (2.1.1)\n",
      "Requirement already satisfied: pyasn1<0.5.0,>=0.4.6 in c:\\programdata\\anaconda3\\lib\\site-packages (from pyasn1-modules>=0.2.1->google-auth<3,>=1.6.3->tensorboard<2.13,>=2.12->tensorflow-intel==2.12.0->tensorflow) (0.4.8)\n",
      "Requirement already satisfied: oauthlib>=3.0.0 in c:\\users\\acer\\appdata\\roaming\\python\\python310\\site-packages (from requests-oauthlib>=0.7.0->google-auth-oauthlib<1.1,>=0.5->tensorboard<2.13,>=2.12->tensorflow-intel==2.12.0->tensorflow) (3.2.2)\n",
      "Building wheels for collected packages: tensorflow-gpu\n",
      "  Building wheel for tensorflow-gpu (setup.py): started\n",
      "  Building wheel for tensorflow-gpu (setup.py): finished with status 'error'\n",
      "  Running setup.py clean for tensorflow-gpu\n",
      "Failed to build tensorflow-gpu\n"
     ]
    },
    {
     "name": "stderr",
     "output_type": "stream",
     "text": [
      "  error: subprocess-exited-with-error\n",
      "  \n",
      "  python setup.py bdist_wheel did not run successfully.\n",
      "  exit code: 1\n",
      "  \n",
      "  [18 lines of output]\n",
      "  Traceback (most recent call last):\n",
      "    File \"<string>\", line 2, in <module>\n",
      "    File \"<pip-setuptools-caller>\", line 34, in <module>\n",
      "    File \"C:\\Users\\Acer\\AppData\\Local\\Temp\\pip-install-toqrhzke\\tensorflow-gpu_2498ba5b29f248cf948c4aa4d15ff7fa\\setup.py\", line 37, in <module>\n",
      "      raise Exception(TF_REMOVAL_WARNING)\n",
      "  Exception:\n",
      "  \n",
      "  =========================================================\n",
      "  The \"tensorflow-gpu\" package has been removed!\n",
      "  \n",
      "  Please install \"tensorflow\" instead.\n",
      "  \n",
      "  Other than the name, the two packages have been identical\n",
      "  since TensorFlow 2.1, or roughly since Sep 2019. For more\n",
      "  information, see: pypi.org/project/tensorflow-gpu\n",
      "  =========================================================\n",
      "  \n",
      "  \n",
      "  [end of output]\n",
      "  \n",
      "  note: This error originates from a subprocess, and is likely not a problem with pip.\n",
      "  ERROR: Failed building wheel for tensorflow-gpu\n",
      "ERROR: Could not build wheels for tensorflow-gpu, which is required to install pyproject.toml-based projects\n"
     ]
    }
   ],
   "source": [
    "!pip install tensorflow tensorflow-gpu opencv-python mediapipe sklearn matplotlib"
   ]
  },
  {
   "cell_type": "code",
   "execution_count": 2,
   "id": "4918c191",
   "metadata": {},
   "outputs": [
    {
     "name": "stdout",
     "output_type": "stream",
     "text": [
      "Defaulting to user installation because normal site-packages is not writeableNote: you may need to restart the kernel to use updated packages.\n",
      "\n",
      "Requirement already satisfied: tensorflow in c:\\users\\acer\\appdata\\roaming\\python\\python310\\site-packages (2.12.0)\n",
      "Collecting tensorflow-gpu\n",
      "  Using cached tensorflow-gpu-2.12.0.tar.gz (2.6 kB)\n",
      "  Preparing metadata (setup.py): started\n",
      "  Preparing metadata (setup.py): finished with status 'done'\n",
      "Requirement already satisfied: opencv-python in c:\\users\\acer\\appdata\\roaming\\python\\python310\\site-packages (4.7.0.72)\n",
      "Requirement already satisfied: mediapipe in c:\\users\\acer\\appdata\\roaming\\python\\python310\\site-packages (0.9.2.1)\n",
      "Requirement already satisfied: sklearn in c:\\users\\acer\\appdata\\roaming\\python\\python310\\site-packages (0.0.post1)\n",
      "Requirement already satisfied: matplotlib in c:\\users\\acer\\appdata\\roaming\\python\\python310\\site-packages (3.7.1)\n",
      "Requirement already satisfied: tensorflow-intel==2.12.0 in c:\\users\\acer\\appdata\\roaming\\python\\python310\\site-packages (from tensorflow) (2.12.0)\n",
      "Requirement already satisfied: absl-py>=1.0.0 in c:\\users\\acer\\appdata\\roaming\\python\\python310\\site-packages (from tensorflow-intel==2.12.0->tensorflow) (1.4.0)\n",
      "Requirement already satisfied: astunparse>=1.6.0 in c:\\users\\acer\\appdata\\roaming\\python\\python310\\site-packages (from tensorflow-intel==2.12.0->tensorflow) (1.6.3)\n",
      "Requirement already satisfied: flatbuffers>=2.0 in c:\\users\\acer\\appdata\\roaming\\python\\python310\\site-packages (from tensorflow-intel==2.12.0->tensorflow) (23.3.3)\n",
      "Requirement already satisfied: gast<=0.4.0,>=0.2.1 in c:\\users\\acer\\appdata\\roaming\\python\\python310\\site-packages (from tensorflow-intel==2.12.0->tensorflow) (0.4.0)\n",
      "Requirement already satisfied: google-pasta>=0.1.1 in c:\\users\\acer\\appdata\\roaming\\python\\python310\\site-packages (from tensorflow-intel==2.12.0->tensorflow) (0.2.0)\n",
      "Requirement already satisfied: h5py>=2.9.0 in c:\\programdata\\anaconda3\\lib\\site-packages (from tensorflow-intel==2.12.0->tensorflow) (3.7.0)\n",
      "Requirement already satisfied: jax>=0.3.15 in c:\\users\\acer\\appdata\\roaming\\python\\python310\\site-packages (from tensorflow-intel==2.12.0->tensorflow) (0.4.8)\n",
      "Requirement already satisfied: libclang>=13.0.0 in c:\\users\\acer\\appdata\\roaming\\python\\python310\\site-packages (from tensorflow-intel==2.12.0->tensorflow) (16.0.0)\n",
      "Requirement already satisfied: numpy<1.24,>=1.22 in c:\\programdata\\anaconda3\\lib\\site-packages (from tensorflow-intel==2.12.0->tensorflow) (1.23.5)\n",
      "Requirement already satisfied: opt-einsum>=2.3.2 in c:\\users\\acer\\appdata\\roaming\\python\\python310\\site-packages (from tensorflow-intel==2.12.0->tensorflow) (3.3.0)\n",
      "Requirement already satisfied: packaging in c:\\programdata\\anaconda3\\lib\\site-packages (from tensorflow-intel==2.12.0->tensorflow) (22.0)\n",
      "Requirement already satisfied: protobuf!=4.21.0,!=4.21.1,!=4.21.2,!=4.21.3,!=4.21.4,!=4.21.5,<5.0.0dev,>=3.20.3 in c:\\users\\acer\\appdata\\roaming\\python\\python310\\site-packages (from tensorflow-intel==2.12.0->tensorflow) (3.20.3)\n",
      "Requirement already satisfied: setuptools in c:\\programdata\\anaconda3\\lib\\site-packages (from tensorflow-intel==2.12.0->tensorflow) (65.6.3)\n",
      "Requirement already satisfied: six>=1.12.0 in c:\\programdata\\anaconda3\\lib\\site-packages (from tensorflow-intel==2.12.0->tensorflow) (1.16.0)\n",
      "Requirement already satisfied: termcolor>=1.1.0 in c:\\users\\acer\\appdata\\roaming\\python\\python310\\site-packages (from tensorflow-intel==2.12.0->tensorflow) (2.2.0)\n",
      "Requirement already satisfied: typing-extensions>=3.6.6 in c:\\programdata\\anaconda3\\lib\\site-packages (from tensorflow-intel==2.12.0->tensorflow) (4.4.0)\n",
      "Requirement already satisfied: wrapt<1.15,>=1.11.0 in c:\\programdata\\anaconda3\\lib\\site-packages (from tensorflow-intel==2.12.0->tensorflow) (1.14.1)\n",
      "Requirement already satisfied: grpcio<2.0,>=1.24.3 in c:\\users\\acer\\appdata\\roaming\\python\\python310\\site-packages (from tensorflow-intel==2.12.0->tensorflow) (1.53.0)\n",
      "Requirement already satisfied: tensorboard<2.13,>=2.12 in c:\\users\\acer\\appdata\\roaming\\python\\python310\\site-packages (from tensorflow-intel==2.12.0->tensorflow) (2.12.1)\n",
      "Requirement already satisfied: tensorflow-estimator<2.13,>=2.12.0 in c:\\users\\acer\\appdata\\roaming\\python\\python310\\site-packages (from tensorflow-intel==2.12.0->tensorflow) (2.12.0)\n",
      "Requirement already satisfied: keras<2.13,>=2.12.0 in c:\\users\\acer\\appdata\\roaming\\python\\python310\\site-packages (from tensorflow-intel==2.12.0->tensorflow) (2.12.0)\n",
      "Requirement already satisfied: tensorflow-io-gcs-filesystem>=0.23.1 in c:\\users\\acer\\appdata\\roaming\\python\\python310\\site-packages (from tensorflow-intel==2.12.0->tensorflow) (0.31.0)\n",
      "Requirement already satisfied: python_version>\"3.7\" in c:\\users\\acer\\appdata\\roaming\\python\\python310\\site-packages (from tensorflow-gpu) (0.0.2)\n",
      "Requirement already satisfied: attrs>=19.1.0 in c:\\programdata\\anaconda3\\lib\\site-packages (from mediapipe) (22.1.0)\n",
      "Requirement already satisfied: opencv-contrib-python in c:\\users\\acer\\appdata\\roaming\\python\\python310\\site-packages (from mediapipe) (4.7.0.72)\n",
      "Requirement already satisfied: contourpy>=1.0.1 in c:\\programdata\\anaconda3\\lib\\site-packages (from matplotlib) (1.0.5)\n",
      "Requirement already satisfied: cycler>=0.10 in c:\\programdata\\anaconda3\\lib\\site-packages (from matplotlib) (0.11.0)\n",
      "Requirement already satisfied: fonttools>=4.22.0 in c:\\programdata\\anaconda3\\lib\\site-packages (from matplotlib) (4.25.0)\n",
      "Requirement already satisfied: kiwisolver>=1.0.1 in c:\\programdata\\anaconda3\\lib\\site-packages (from matplotlib) (1.4.4)\n",
      "Requirement already satisfied: pillow>=6.2.0 in c:\\programdata\\anaconda3\\lib\\site-packages (from matplotlib) (9.4.0)\n",
      "Requirement already satisfied: pyparsing>=2.3.1 in c:\\programdata\\anaconda3\\lib\\site-packages (from matplotlib) (3.0.9)\n",
      "Requirement already satisfied: python-dateutil>=2.7 in c:\\programdata\\anaconda3\\lib\\site-packages (from matplotlib) (2.8.2)\n",
      "Requirement already satisfied: wheel<1.0,>=0.23.0 in c:\\programdata\\anaconda3\\lib\\site-packages (from astunparse>=1.6.0->tensorflow-intel==2.12.0->tensorflow) (0.38.4)\n",
      "Requirement already satisfied: ml-dtypes>=0.0.3 in c:\\users\\acer\\appdata\\roaming\\python\\python310\\site-packages (from jax>=0.3.15->tensorflow-intel==2.12.0->tensorflow) (0.0.4)\n",
      "Requirement already satisfied: scipy>=1.7 in c:\\users\\acer\\appdata\\roaming\\python\\python310\\site-packages (from jax>=0.3.15->tensorflow-intel==2.12.0->tensorflow) (1.10.1)\n",
      "Requirement already satisfied: google-auth<3,>=1.6.3 in c:\\users\\acer\\appdata\\roaming\\python\\python310\\site-packages (from tensorboard<2.13,>=2.12->tensorflow-intel==2.12.0->tensorflow) (2.17.2)\n",
      "Requirement already satisfied: google-auth-oauthlib<1.1,>=0.5 in c:\\users\\acer\\appdata\\roaming\\python\\python310\\site-packages (from tensorboard<2.13,>=2.12->tensorflow-intel==2.12.0->tensorflow) (1.0.0)\n",
      "Requirement already satisfied: markdown>=2.6.8 in c:\\programdata\\anaconda3\\lib\\site-packages (from tensorboard<2.13,>=2.12->tensorflow-intel==2.12.0->tensorflow) (3.4.1)\n",
      "Requirement already satisfied: requests<3,>=2.21.0 in c:\\programdata\\anaconda3\\lib\\site-packages (from tensorboard<2.13,>=2.12->tensorflow-intel==2.12.0->tensorflow) (2.28.1)\n",
      "Requirement already satisfied: tensorboard-data-server<0.8.0,>=0.7.0 in c:\\users\\acer\\appdata\\roaming\\python\\python310\\site-packages (from tensorboard<2.13,>=2.12->tensorflow-intel==2.12.0->tensorflow) (0.7.0)\n",
      "Requirement already satisfied: tensorboard-plugin-wit>=1.6.0 in c:\\users\\acer\\appdata\\roaming\\python\\python310\\site-packages (from tensorboard<2.13,>=2.12->tensorflow-intel==2.12.0->tensorflow) (1.8.1)\n",
      "Requirement already satisfied: werkzeug>=1.0.1 in c:\\programdata\\anaconda3\\lib\\site-packages (from tensorboard<2.13,>=2.12->tensorflow-intel==2.12.0->tensorflow) (2.2.2)\n",
      "Requirement already satisfied: cachetools<6.0,>=2.0.0 in c:\\users\\acer\\appdata\\roaming\\python\\python310\\site-packages (from google-auth<3,>=1.6.3->tensorboard<2.13,>=2.12->tensorflow-intel==2.12.0->tensorflow) (5.3.0)\n",
      "Requirement already satisfied: pyasn1-modules>=0.2.1 in c:\\programdata\\anaconda3\\lib\\site-packages (from google-auth<3,>=1.6.3->tensorboard<2.13,>=2.12->tensorflow-intel==2.12.0->tensorflow) (0.2.8)\n",
      "Requirement already satisfied: rsa<5,>=3.1.4 in c:\\users\\acer\\appdata\\roaming\\python\\python310\\site-packages (from google-auth<3,>=1.6.3->tensorboard<2.13,>=2.12->tensorflow-intel==2.12.0->tensorflow) (4.9)\n",
      "Requirement already satisfied: requests-oauthlib>=0.7.0 in c:\\users\\acer\\appdata\\roaming\\python\\python310\\site-packages (from google-auth-oauthlib<1.1,>=0.5->tensorboard<2.13,>=2.12->tensorflow-intel==2.12.0->tensorflow) (1.3.1)\n",
      "Requirement already satisfied: charset-normalizer<3,>=2 in c:\\programdata\\anaconda3\\lib\\site-packages (from requests<3,>=2.21.0->tensorboard<2.13,>=2.12->tensorflow-intel==2.12.0->tensorflow) (2.0.4)\n",
      "Requirement already satisfied: idna<4,>=2.5 in c:\\programdata\\anaconda3\\lib\\site-packages (from requests<3,>=2.21.0->tensorboard<2.13,>=2.12->tensorflow-intel==2.12.0->tensorflow) (3.4)\n",
      "Requirement already satisfied: urllib3<1.27,>=1.21.1 in c:\\programdata\\anaconda3\\lib\\site-packages (from requests<3,>=2.21.0->tensorboard<2.13,>=2.12->tensorflow-intel==2.12.0->tensorflow) (1.26.14)\n",
      "Requirement already satisfied: certifi>=2017.4.17 in c:\\programdata\\anaconda3\\lib\\site-packages (from requests<3,>=2.21.0->tensorboard<2.13,>=2.12->tensorflow-intel==2.12.0->tensorflow) (2022.12.7)\n",
      "Requirement already satisfied: MarkupSafe>=2.1.1 in c:\\programdata\\anaconda3\\lib\\site-packages (from werkzeug>=1.0.1->tensorboard<2.13,>=2.12->tensorflow-intel==2.12.0->tensorflow) (2.1.1)\n",
      "Requirement already satisfied: pyasn1<0.5.0,>=0.4.6 in c:\\programdata\\anaconda3\\lib\\site-packages (from pyasn1-modules>=0.2.1->google-auth<3,>=1.6.3->tensorboard<2.13,>=2.12->tensorflow-intel==2.12.0->tensorflow) (0.4.8)\n",
      "Requirement already satisfied: oauthlib>=3.0.0 in c:\\users\\acer\\appdata\\roaming\\python\\python310\\site-packages (from requests-oauthlib>=0.7.0->google-auth-oauthlib<1.1,>=0.5->tensorboard<2.13,>=2.12->tensorflow-intel==2.12.0->tensorflow) (3.2.2)\n",
      "Building wheels for collected packages: tensorflow-gpu\n",
      "  Building wheel for tensorflow-gpu (setup.py): started\n",
      "  Building wheel for tensorflow-gpu (setup.py): finished with status 'error'\n",
      "  Running setup.py clean for tensorflow-gpu\n",
      "Failed to build tensorflow-gpu\n"
     ]
    },
    {
     "name": "stderr",
     "output_type": "stream",
     "text": [
      "  error: subprocess-exited-with-error\n",
      "  \n",
      "  python setup.py bdist_wheel did not run successfully.\n",
      "  exit code: 1\n",
      "  \n",
      "  [18 lines of output]\n",
      "  Traceback (most recent call last):\n",
      "    File \"<string>\", line 2, in <module>\n",
      "    File \"<pip-setuptools-caller>\", line 34, in <module>\n",
      "    File \"C:\\Users\\Acer\\AppData\\Local\\Temp\\pip-install-ngeif4_b\\tensorflow-gpu_c0e0459ce05a437b81aa5bd38aa09201\\setup.py\", line 37, in <module>\n",
      "      raise Exception(TF_REMOVAL_WARNING)\n",
      "  Exception:\n",
      "  \n",
      "  =========================================================\n",
      "  The \"tensorflow-gpu\" package has been removed!\n",
      "  \n",
      "  Please install \"tensorflow\" instead.\n",
      "  \n",
      "  Other than the name, the two packages have been identical\n",
      "  since TensorFlow 2.1, or roughly since Sep 2019. For more\n",
      "  information, see: pypi.org/project/tensorflow-gpu\n",
      "  =========================================================\n",
      "  \n",
      "  \n",
      "  [end of output]\n",
      "  \n",
      "  note: This error originates from a subprocess, and is likely not a problem with pip.\n",
      "  ERROR: Failed building wheel for tensorflow-gpu\n",
      "ERROR: Could not build wheels for tensorflow-gpu, which is required to install pyproject.toml-based projects\n"
     ]
    }
   ],
   "source": [
    "pip install tensorflow tensorflow-gpu opencv-python mediapipe sklearn matplotlib"
   ]
  },
  {
   "cell_type": "code",
   "execution_count": 3,
   "id": "28cd7477",
   "metadata": {},
   "outputs": [
    {
     "name": "stdout",
     "output_type": "stream",
     "text": [
      "Defaulting to user installation because normal site-packages is not writeable\n",
      "Requirement already satisfied: matplotlib in c:\\users\\acer\\appdata\\roaming\\python\\python310\\site-packages (3.7.1)\n",
      "Requirement already satisfied: contourpy>=1.0.1 in c:\\programdata\\anaconda3\\lib\\site-packages (from matplotlib) (1.0.5)\n",
      "Requirement already satisfied: cycler>=0.10 in c:\\programdata\\anaconda3\\lib\\site-packages (from matplotlib) (0.11.0)\n",
      "Requirement already satisfied: fonttools>=4.22.0 in c:\\programdata\\anaconda3\\lib\\site-packages (from matplotlib) (4.25.0)\n",
      "Requirement already satisfied: kiwisolver>=1.0.1 in c:\\programdata\\anaconda3\\lib\\site-packages (from matplotlib) (1.4.4)\n",
      "Requirement already satisfied: numpy>=1.20 in c:\\programdata\\anaconda3\\lib\\site-packages (from matplotlib) (1.23.5)\n",
      "Requirement already satisfied: packaging>=20.0 in c:\\programdata\\anaconda3\\lib\\site-packages (from matplotlib) (22.0)\n",
      "Requirement already satisfied: pillow>=6.2.0 in c:\\programdata\\anaconda3\\lib\\site-packages (from matplotlib) (9.4.0)\n",
      "Requirement already satisfied: pyparsing>=2.3.1 in c:\\programdata\\anaconda3\\lib\\site-packages (from matplotlib) (3.0.9)\n",
      "Requirement already satisfied: python-dateutil>=2.7 in c:\\programdata\\anaconda3\\lib\\site-packages (from matplotlib) (2.8.2)\n",
      "Requirement already satisfied: six>=1.5 in c:\\programdata\\anaconda3\\lib\\site-packages (from python-dateutil>=2.7->matplotlib) (1.16.0)\n",
      "Note: you may need to restart the kernel to use updated packages.\n"
     ]
    }
   ],
   "source": [
    "pip install matplotlib"
   ]
  },
  {
   "cell_type": "code",
   "execution_count": 4,
   "id": "faf0c351",
   "metadata": {},
   "outputs": [
    {
     "name": "stdout",
     "output_type": "stream",
     "text": [
      "Defaulting to user installation because normal site-packages is not writeable\n",
      "Requirement already satisfied: mediapipe in c:\\users\\acer\\appdata\\roaming\\python\\python310\\site-packages (0.9.2.1)\n",
      "Requirement already satisfied: absl-py in c:\\users\\acer\\appdata\\roaming\\python\\python310\\site-packages (from mediapipe) (1.4.0)\n",
      "Requirement already satisfied: attrs>=19.1.0 in c:\\programdata\\anaconda3\\lib\\site-packages (from mediapipe) (22.1.0)\n",
      "Requirement already satisfied: flatbuffers>=2.0 in c:\\users\\acer\\appdata\\roaming\\python\\python310\\site-packages (from mediapipe) (23.3.3)\n",
      "Requirement already satisfied: matplotlib in c:\\users\\acer\\appdata\\roaming\\python\\python310\\site-packages (from mediapipe) (3.7.1)\n",
      "Requirement already satisfied: numpy in c:\\programdata\\anaconda3\\lib\\site-packages (from mediapipe) (1.23.5)\n",
      "Requirement already satisfied: opencv-contrib-python in c:\\users\\acer\\appdata\\roaming\\python\\python310\\site-packages (from mediapipe) (4.7.0.72)\n",
      "Requirement already satisfied: protobuf<4,>=3.11 in c:\\users\\acer\\appdata\\roaming\\python\\python310\\site-packages (from mediapipe) (3.20.3)\n",
      "Requirement already satisfied: contourpy>=1.0.1 in c:\\programdata\\anaconda3\\lib\\site-packages (from matplotlib->mediapipe) (1.0.5)\n",
      "Requirement already satisfied: cycler>=0.10 in c:\\programdata\\anaconda3\\lib\\site-packages (from matplotlib->mediapipe) (0.11.0)\n",
      "Requirement already satisfied: fonttools>=4.22.0 in c:\\programdata\\anaconda3\\lib\\site-packages (from matplotlib->mediapipe) (4.25.0)\n",
      "Requirement already satisfied: kiwisolver>=1.0.1 in c:\\programdata\\anaconda3\\lib\\site-packages (from matplotlib->mediapipe) (1.4.4)\n",
      "Requirement already satisfied: packaging>=20.0 in c:\\programdata\\anaconda3\\lib\\site-packages (from matplotlib->mediapipe) (22.0)\n",
      "Requirement already satisfied: pillow>=6.2.0 in c:\\programdata\\anaconda3\\lib\\site-packages (from matplotlib->mediapipe) (9.4.0)\n",
      "Requirement already satisfied: pyparsing>=2.3.1 in c:\\programdata\\anaconda3\\lib\\site-packages (from matplotlib->mediapipe) (3.0.9)\n",
      "Requirement already satisfied: python-dateutil>=2.7 in c:\\programdata\\anaconda3\\lib\\site-packages (from matplotlib->mediapipe) (2.8.2)\n",
      "Requirement already satisfied: six>=1.5 in c:\\programdata\\anaconda3\\lib\\site-packages (from python-dateutil>=2.7->matplotlib->mediapipe) (1.16.0)\n",
      "Note: you may need to restart the kernel to use updated packages.\n"
     ]
    }
   ],
   "source": [
    "pip install mediapipe"
   ]
  },
  {
   "cell_type": "code",
   "execution_count": 5,
   "id": "ed6c88ce",
   "metadata": {},
   "outputs": [],
   "source": [
    "import numpy as np\n",
    "import os\n",
    "from matplotlib import pyplot as plt\n",
    "import time\n",
    "import mediapipe as mp\n",
    "import cv2"
   ]
  },
  {
   "cell_type": "code",
   "execution_count": 6,
   "id": "c1b5220f",
   "metadata": {},
   "outputs": [
    {
     "name": "stdout",
     "output_type": "stream",
     "text": [
      "Defaulting to user installation because normal site-packages is not writeable\n",
      "Requirement already satisfied: scikit-learn in c:\\users\\acer\\appdata\\roaming\\python\\python310\\site-packages (1.2.2)\n",
      "Requirement already satisfied: scipy in c:\\users\\acer\\appdata\\roaming\\python\\python310\\site-packages (1.10.1)\n",
      "Requirement already satisfied: matplotlib in c:\\users\\acer\\appdata\\roaming\\python\\python310\\site-packages (3.7.1)\n",
      "Requirement already satisfied: numpy>=1.17.3 in c:\\programdata\\anaconda3\\lib\\site-packages (from scikit-learn) (1.23.5)\n",
      "Requirement already satisfied: joblib>=1.1.1 in c:\\programdata\\anaconda3\\lib\\site-packages (from scikit-learn) (1.1.1)\n",
      "Requirement already satisfied: threadpoolctl>=2.0.0 in c:\\programdata\\anaconda3\\lib\\site-packages (from scikit-learn) (2.2.0)\n",
      "Requirement already satisfied: contourpy>=1.0.1 in c:\\programdata\\anaconda3\\lib\\site-packages (from matplotlib) (1.0.5)\n",
      "Requirement already satisfied: cycler>=0.10 in c:\\programdata\\anaconda3\\lib\\site-packages (from matplotlib) (0.11.0)\n",
      "Requirement already satisfied: fonttools>=4.22.0 in c:\\programdata\\anaconda3\\lib\\site-packages (from matplotlib) (4.25.0)\n",
      "Requirement already satisfied: kiwisolver>=1.0.1 in c:\\programdata\\anaconda3\\lib\\site-packages (from matplotlib) (1.4.4)\n",
      "Requirement already satisfied: packaging>=20.0 in c:\\programdata\\anaconda3\\lib\\site-packages (from matplotlib) (22.0)\n",
      "Requirement already satisfied: pillow>=6.2.0 in c:\\programdata\\anaconda3\\lib\\site-packages (from matplotlib) (9.4.0)\n",
      "Requirement already satisfied: pyparsing>=2.3.1 in c:\\programdata\\anaconda3\\lib\\site-packages (from matplotlib) (3.0.9)\n",
      "Requirement already satisfied: python-dateutil>=2.7 in c:\\programdata\\anaconda3\\lib\\site-packages (from matplotlib) (2.8.2)\n",
      "Requirement already satisfied: six>=1.5 in c:\\programdata\\anaconda3\\lib\\site-packages (from python-dateutil>=2.7->matplotlib) (1.16.0)\n",
      "Note: you may need to restart the kernel to use updated packages.\n"
     ]
    }
   ],
   "source": [
    "pip install -U scikit-learn scipy matplotlib"
   ]
  },
  {
   "cell_type": "code",
   "execution_count": 7,
   "id": "1d132ab4",
   "metadata": {},
   "outputs": [
    {
     "name": "stdout",
     "output_type": "stream",
     "text": [
      "Defaulting to user installation because normal site-packages is not writeable\n",
      "Requirement already satisfied: tensorflow in c:\\users\\acer\\appdata\\roaming\\python\\python310\\site-packages (2.12.0)\n",
      "Requirement already satisfied: tensorflow-intel==2.12.0 in c:\\users\\acer\\appdata\\roaming\\python\\python310\\site-packages (from tensorflow) (2.12.0)\n",
      "Requirement already satisfied: absl-py>=1.0.0 in c:\\users\\acer\\appdata\\roaming\\python\\python310\\site-packages (from tensorflow-intel==2.12.0->tensorflow) (1.4.0)\n",
      "Requirement already satisfied: astunparse>=1.6.0 in c:\\users\\acer\\appdata\\roaming\\python\\python310\\site-packages (from tensorflow-intel==2.12.0->tensorflow) (1.6.3)\n",
      "Requirement already satisfied: flatbuffers>=2.0 in c:\\users\\acer\\appdata\\roaming\\python\\python310\\site-packages (from tensorflow-intel==2.12.0->tensorflow) (23.3.3)\n",
      "Requirement already satisfied: gast<=0.4.0,>=0.2.1 in c:\\users\\acer\\appdata\\roaming\\python\\python310\\site-packages (from tensorflow-intel==2.12.0->tensorflow) (0.4.0)\n",
      "Requirement already satisfied: google-pasta>=0.1.1 in c:\\users\\acer\\appdata\\roaming\\python\\python310\\site-packages (from tensorflow-intel==2.12.0->tensorflow) (0.2.0)\n",
      "Requirement already satisfied: h5py>=2.9.0 in c:\\programdata\\anaconda3\\lib\\site-packages (from tensorflow-intel==2.12.0->tensorflow) (3.7.0)\n",
      "Requirement already satisfied: jax>=0.3.15 in c:\\users\\acer\\appdata\\roaming\\python\\python310\\site-packages (from tensorflow-intel==2.12.0->tensorflow) (0.4.8)\n",
      "Requirement already satisfied: libclang>=13.0.0 in c:\\users\\acer\\appdata\\roaming\\python\\python310\\site-packages (from tensorflow-intel==2.12.0->tensorflow) (16.0.0)\n",
      "Requirement already satisfied: numpy<1.24,>=1.22 in c:\\programdata\\anaconda3\\lib\\site-packages (from tensorflow-intel==2.12.0->tensorflow) (1.23.5)\n",
      "Requirement already satisfied: opt-einsum>=2.3.2 in c:\\users\\acer\\appdata\\roaming\\python\\python310\\site-packages (from tensorflow-intel==2.12.0->tensorflow) (3.3.0)\n",
      "Requirement already satisfied: packaging in c:\\programdata\\anaconda3\\lib\\site-packages (from tensorflow-intel==2.12.0->tensorflow) (22.0)\n",
      "Requirement already satisfied: protobuf!=4.21.0,!=4.21.1,!=4.21.2,!=4.21.3,!=4.21.4,!=4.21.5,<5.0.0dev,>=3.20.3 in c:\\users\\acer\\appdata\\roaming\\python\\python310\\site-packages (from tensorflow-intel==2.12.0->tensorflow) (3.20.3)\n",
      "Requirement already satisfied: setuptools in c:\\programdata\\anaconda3\\lib\\site-packages (from tensorflow-intel==2.12.0->tensorflow) (65.6.3)\n",
      "Requirement already satisfied: six>=1.12.0 in c:\\programdata\\anaconda3\\lib\\site-packages (from tensorflow-intel==2.12.0->tensorflow) (1.16.0)\n",
      "Requirement already satisfied: termcolor>=1.1.0 in c:\\users\\acer\\appdata\\roaming\\python\\python310\\site-packages (from tensorflow-intel==2.12.0->tensorflow) (2.2.0)\n",
      "Requirement already satisfied: typing-extensions>=3.6.6 in c:\\programdata\\anaconda3\\lib\\site-packages (from tensorflow-intel==2.12.0->tensorflow) (4.4.0)\n",
      "Requirement already satisfied: wrapt<1.15,>=1.11.0 in c:\\programdata\\anaconda3\\lib\\site-packages (from tensorflow-intel==2.12.0->tensorflow) (1.14.1)\n",
      "Requirement already satisfied: grpcio<2.0,>=1.24.3 in c:\\users\\acer\\appdata\\roaming\\python\\python310\\site-packages (from tensorflow-intel==2.12.0->tensorflow) (1.53.0)\n",
      "Requirement already satisfied: tensorboard<2.13,>=2.12 in c:\\users\\acer\\appdata\\roaming\\python\\python310\\site-packages (from tensorflow-intel==2.12.0->tensorflow) (2.12.1)\n",
      "Requirement already satisfied: tensorflow-estimator<2.13,>=2.12.0 in c:\\users\\acer\\appdata\\roaming\\python\\python310\\site-packages (from tensorflow-intel==2.12.0->tensorflow) (2.12.0)\n",
      "Requirement already satisfied: keras<2.13,>=2.12.0 in c:\\users\\acer\\appdata\\roaming\\python\\python310\\site-packages (from tensorflow-intel==2.12.0->tensorflow) (2.12.0)\n",
      "Requirement already satisfied: tensorflow-io-gcs-filesystem>=0.23.1 in c:\\users\\acer\\appdata\\roaming\\python\\python310\\site-packages (from tensorflow-intel==2.12.0->tensorflow) (0.31.0)\n",
      "Requirement already satisfied: wheel<1.0,>=0.23.0 in c:\\programdata\\anaconda3\\lib\\site-packages (from astunparse>=1.6.0->tensorflow-intel==2.12.0->tensorflow) (0.38.4)\n",
      "Requirement already satisfied: ml-dtypes>=0.0.3 in c:\\users\\acer\\appdata\\roaming\\python\\python310\\site-packages (from jax>=0.3.15->tensorflow-intel==2.12.0->tensorflow) (0.0.4)\n",
      "Requirement already satisfied: scipy>=1.7 in c:\\users\\acer\\appdata\\roaming\\python\\python310\\site-packages (from jax>=0.3.15->tensorflow-intel==2.12.0->tensorflow) (1.10.1)\n",
      "Requirement already satisfied: google-auth<3,>=1.6.3 in c:\\users\\acer\\appdata\\roaming\\python\\python310\\site-packages (from tensorboard<2.13,>=2.12->tensorflow-intel==2.12.0->tensorflow) (2.17.2)\n",
      "Requirement already satisfied: google-auth-oauthlib<1.1,>=0.5 in c:\\users\\acer\\appdata\\roaming\\python\\python310\\site-packages (from tensorboard<2.13,>=2.12->tensorflow-intel==2.12.0->tensorflow) (1.0.0)\n",
      "Requirement already satisfied: markdown>=2.6.8 in c:\\programdata\\anaconda3\\lib\\site-packages (from tensorboard<2.13,>=2.12->tensorflow-intel==2.12.0->tensorflow) (3.4.1)\n",
      "Requirement already satisfied: requests<3,>=2.21.0 in c:\\programdata\\anaconda3\\lib\\site-packages (from tensorboard<2.13,>=2.12->tensorflow-intel==2.12.0->tensorflow) (2.28.1)\n",
      "Requirement already satisfied: tensorboard-data-server<0.8.0,>=0.7.0 in c:\\users\\acer\\appdata\\roaming\\python\\python310\\site-packages (from tensorboard<2.13,>=2.12->tensorflow-intel==2.12.0->tensorflow) (0.7.0)\n",
      "Requirement already satisfied: tensorboard-plugin-wit>=1.6.0 in c:\\users\\acer\\appdata\\roaming\\python\\python310\\site-packages (from tensorboard<2.13,>=2.12->tensorflow-intel==2.12.0->tensorflow) (1.8.1)\n",
      "Requirement already satisfied: werkzeug>=1.0.1 in c:\\programdata\\anaconda3\\lib\\site-packages (from tensorboard<2.13,>=2.12->tensorflow-intel==2.12.0->tensorflow) (2.2.2)\n",
      "Requirement already satisfied: cachetools<6.0,>=2.0.0 in c:\\users\\acer\\appdata\\roaming\\python\\python310\\site-packages (from google-auth<3,>=1.6.3->tensorboard<2.13,>=2.12->tensorflow-intel==2.12.0->tensorflow) (5.3.0)\n",
      "Requirement already satisfied: pyasn1-modules>=0.2.1 in c:\\programdata\\anaconda3\\lib\\site-packages (from google-auth<3,>=1.6.3->tensorboard<2.13,>=2.12->tensorflow-intel==2.12.0->tensorflow) (0.2.8)\n",
      "Requirement already satisfied: rsa<5,>=3.1.4 in c:\\users\\acer\\appdata\\roaming\\python\\python310\\site-packages (from google-auth<3,>=1.6.3->tensorboard<2.13,>=2.12->tensorflow-intel==2.12.0->tensorflow) (4.9)\n",
      "Requirement already satisfied: requests-oauthlib>=0.7.0 in c:\\users\\acer\\appdata\\roaming\\python\\python310\\site-packages (from google-auth-oauthlib<1.1,>=0.5->tensorboard<2.13,>=2.12->tensorflow-intel==2.12.0->tensorflow) (1.3.1)\n",
      "Requirement already satisfied: charset-normalizer<3,>=2 in c:\\programdata\\anaconda3\\lib\\site-packages (from requests<3,>=2.21.0->tensorboard<2.13,>=2.12->tensorflow-intel==2.12.0->tensorflow) (2.0.4)\n",
      "Requirement already satisfied: idna<4,>=2.5 in c:\\programdata\\anaconda3\\lib\\site-packages (from requests<3,>=2.21.0->tensorboard<2.13,>=2.12->tensorflow-intel==2.12.0->tensorflow) (3.4)\n",
      "Requirement already satisfied: urllib3<1.27,>=1.21.1 in c:\\programdata\\anaconda3\\lib\\site-packages (from requests<3,>=2.21.0->tensorboard<2.13,>=2.12->tensorflow-intel==2.12.0->tensorflow) (1.26.14)\n",
      "Requirement already satisfied: certifi>=2017.4.17 in c:\\programdata\\anaconda3\\lib\\site-packages (from requests<3,>=2.21.0->tensorboard<2.13,>=2.12->tensorflow-intel==2.12.0->tensorflow) (2022.12.7)\n",
      "Requirement already satisfied: MarkupSafe>=2.1.1 in c:\\programdata\\anaconda3\\lib\\site-packages (from werkzeug>=1.0.1->tensorboard<2.13,>=2.12->tensorflow-intel==2.12.0->tensorflow) (2.1.1)\n",
      "Requirement already satisfied: pyasn1<0.5.0,>=0.4.6 in c:\\programdata\\anaconda3\\lib\\site-packages (from pyasn1-modules>=0.2.1->google-auth<3,>=1.6.3->tensorboard<2.13,>=2.12->tensorflow-intel==2.12.0->tensorflow) (0.4.8)\n",
      "Requirement already satisfied: oauthlib>=3.0.0 in c:\\users\\acer\\appdata\\roaming\\python\\python310\\site-packages (from requests-oauthlib>=0.7.0->google-auth-oauthlib<1.1,>=0.5->tensorboard<2.13,>=2.12->tensorflow-intel==2.12.0->tensorflow) (3.2.2)\n",
      "Note: you may need to restart the kernel to use updated packages.\n"
     ]
    }
   ],
   "source": [
    "pip install tensorflow"
   ]
  },
  {
   "cell_type": "code",
   "execution_count": 8,
   "id": "3f9e3a8a",
   "metadata": {},
   "outputs": [],
   "source": [
    "import os \n",
    "DATA_PATH = os.path.join('AMIRA1_Data') \n",
    "# amira means princess in arabic please respect the name a princess deserve 98% accurency \n",
    "\n",
    "# Actions that we try to detect\n",
    "actions = np.array(['aLL DONE','ask you','baby','bad','book','bored','boy','car','cat','coffee','come','cook','do not want','eat','english','excited','father','fine','finish','forget','fruit','girl','give','go to','good','happy','hearing',\n",
    "                   'hello','help','home','how','I','juice','kitchen','like','love you','mine or me','more','mother','no','nurse','Pay attention','phone',\n",
    "                   'please','read','repeat','right','sad','see you later','stop','student','talk','thanks','vegtebels','want','water','what','work','write','wrong','yes','you'])\n"
   ]
  },
  {
   "cell_type": "code",
   "execution_count": 9,
   "id": "3562b3fe",
   "metadata": {},
   "outputs": [],
   "source": [
    "# Thirty videos worth of data\n",
    "no_sequences = 30\n",
    "\n",
    "# Videos are going to be 30 frames in length\n",
    "sequence_length = 30"
   ]
  },
  {
   "cell_type": "code",
   "execution_count": 10,
   "id": "8a8b9b85",
   "metadata": {},
   "outputs": [
    {
     "data": {
      "text/plain": [
       "'AMIRA1_Data'"
      ]
     },
     "execution_count": 10,
     "metadata": {},
     "output_type": "execute_result"
    }
   ],
   "source": [
    "DATA_PATH"
   ]
  },
  {
   "cell_type": "code",
   "execution_count": 11,
   "id": "d9233cfd",
   "metadata": {},
   "outputs": [],
   "source": [
    "label_map = {label:num for num, label in enumerate(actions)} # code to create libreary"
   ]
  },
  {
   "cell_type": "code",
   "execution_count": 12,
   "id": "d2067bec",
   "metadata": {},
   "outputs": [
    {
     "data": {
      "text/plain": [
       "{'aLL DONE': 0,\n",
       " 'ask you': 1,\n",
       " 'baby': 2,\n",
       " 'bad': 3,\n",
       " 'book': 4,\n",
       " 'bored': 5,\n",
       " 'boy': 6,\n",
       " 'car': 7,\n",
       " 'cat': 8,\n",
       " 'coffee': 9,\n",
       " 'come': 10,\n",
       " 'cook': 11,\n",
       " 'do not want': 12,\n",
       " 'eat': 13,\n",
       " 'english': 14,\n",
       " 'excited': 15,\n",
       " 'father': 16,\n",
       " 'fine': 17,\n",
       " 'finish': 18,\n",
       " 'forget': 19,\n",
       " 'fruit': 20,\n",
       " 'girl': 21,\n",
       " 'give': 22,\n",
       " 'go to': 23,\n",
       " 'good': 24,\n",
       " 'happy': 25,\n",
       " 'hearing': 26,\n",
       " 'hello': 27,\n",
       " 'help': 28,\n",
       " 'home': 29,\n",
       " 'how': 30,\n",
       " 'I': 31,\n",
       " 'juice': 32,\n",
       " 'kitchen': 33,\n",
       " 'like': 34,\n",
       " 'love you': 35,\n",
       " 'mine or me': 36,\n",
       " 'more': 37,\n",
       " 'mother': 38,\n",
       " 'no': 39,\n",
       " 'nurse': 40,\n",
       " 'Pay attention': 41,\n",
       " 'phone': 42,\n",
       " 'please': 43,\n",
       " 'read': 44,\n",
       " 'repeat': 45,\n",
       " 'right': 46,\n",
       " 'sad': 47,\n",
       " 'see you later': 48,\n",
       " 'stop': 49,\n",
       " 'student': 50,\n",
       " 'talk': 51,\n",
       " 'thanks': 52,\n",
       " 'vegtebels': 53,\n",
       " 'want': 54,\n",
       " 'water': 55,\n",
       " 'what': 56,\n",
       " 'work': 57,\n",
       " 'write': 58,\n",
       " 'wrong': 59,\n",
       " 'yes': 60,\n",
       " 'you': 61}"
      ]
     },
     "execution_count": 12,
     "metadata": {},
     "output_type": "execute_result"
    }
   ],
   "source": [
    "label_map"
   ]
  },
  {
   "cell_type": "code",
   "execution_count": 13,
   "id": "64c751a4",
   "metadata": {},
   "outputs": [],
   "source": [
    "#this part here I'll redo it in kaggel because with huge dataset I can't perceed in my pc \n",
    "sequences, labels = [], [] #sequences=features ,labels \n",
    "for action in actions:\n",
    "    for sequence in range(no_sequences):\n",
    "        window = []\n",
    "        for frame_num in range(sequence_length):\n",
    "            res = np.load(os.path.join(DATA_PATH, action, str(sequence), \"{}.npy\".format(frame_num))) #upload data \n",
    "            window.append(res)\n",
    "        sequences.append(window)\n",
    "        labels.append(label_map[action])"
   ]
  },
  {
   "cell_type": "code",
   "execution_count": 14,
   "id": "9087d28f",
   "metadata": {},
   "outputs": [
    {
     "data": {
      "text/plain": [
       "(1860, 30, 1662)"
      ]
     },
     "execution_count": 14,
     "metadata": {},
     "output_type": "execute_result"
    }
   ],
   "source": [
    "np.array(sequences).shape"
   ]
  },
  {
   "cell_type": "code",
   "execution_count": 15,
   "id": "e3913439",
   "metadata": {},
   "outputs": [
    {
     "data": {
      "text/plain": [
       "(1860,)"
      ]
     },
     "execution_count": 15,
     "metadata": {},
     "output_type": "execute_result"
    }
   ],
   "source": [
    "np.array(labels).shape"
   ]
  },
  {
   "cell_type": "code",
   "execution_count": 16,
   "id": "e55133f1",
   "metadata": {},
   "outputs": [],
   "source": [
    "# we will save our sequences into a numpy array to make it easy to work with it \n",
    "X = np.array(sequences)"
   ]
  },
  {
   "cell_type": "code",
   "execution_count": 17,
   "id": "e443995a",
   "metadata": {},
   "outputs": [
    {
     "data": {
      "text/plain": [
       "(1860, 30, 1662)"
      ]
     },
     "execution_count": 17,
     "metadata": {},
     "output_type": "execute_result"
    }
   ],
   "source": [
    "X.shape #the same result as the first time "
   ]
  },
  {
   "cell_type": "code",
   "execution_count": 18,
   "id": "e95a734d",
   "metadata": {},
   "outputs": [],
   "source": [
    "from sklearn.model_selection import train_test_split #to split the dataset\n",
    "from tensorflow.keras.utils import to_categorical \n",
    "#after this copiyit a dataset f bireau"
   ]
  },
  {
   "cell_type": "code",
   "execution_count": 19,
   "id": "719fe280",
   "metadata": {},
   "outputs": [],
   "source": [
    "y = to_categorical(labels).astype(int) #we converted our labels to binary (0 and 1 )"
   ]
  },
  {
   "cell_type": "code",
   "execution_count": 20,
   "id": "8e0ebc30",
   "metadata": {},
   "outputs": [
    {
     "data": {
      "text/plain": [
       "array([[1, 0, 0, ..., 0, 0, 0],\n",
       "       [1, 0, 0, ..., 0, 0, 0],\n",
       "       [1, 0, 0, ..., 0, 0, 0],\n",
       "       ...,\n",
       "       [0, 0, 0, ..., 0, 0, 1],\n",
       "       [0, 0, 0, ..., 0, 0, 1],\n",
       "       [0, 0, 0, ..., 0, 0, 1]])"
      ]
     },
     "execution_count": 20,
     "metadata": {},
     "output_type": "execute_result"
    }
   ],
   "source": [
    "y #having 1 in the first position represent hello ,the second position represent thank's and the third position represent iloveyou"
   ]
  },
  {
   "cell_type": "code",
   "execution_count": 24,
   "id": "50dc098a",
   "metadata": {},
   "outputs": [],
   "source": [
    "#our test partition is  5%  of our data because we do not have to many data in our dataset \n",
    "#y is for labels \n",
    "X_train, X_test, y_train, y_test = train_test_split(X, y, test_size=0.05) #split our data into train and test category \n",
    "#au depart kanet 5%\n"
   ]
  },
  {
   "cell_type": "code",
   "execution_count": 25,
   "id": "5a2c3e7a",
   "metadata": {},
   "outputs": [
    {
     "data": {
      "text/plain": [
       "(1767, 30, 1662)"
      ]
     },
     "execution_count": 25,
     "metadata": {},
     "output_type": "execute_result"
    }
   ],
   "source": [
    "X_train.shape # 80%  of our data is for training  \n"
   ]
  },
  {
   "cell_type": "code",
   "execution_count": 15,
   "id": "c8266de9",
   "metadata": {},
   "outputs": [],
   "source": [
    "from tensorflow.keras.models import Sequential\n",
    "from tensorflow.keras.layers import LSTM, Dense # we will build with it our neural network\n",
    "from tensorflow.keras.callbacks import TensorBoard"
   ]
  },
  {
   "cell_type": "code",
   "execution_count": 51,
   "id": "0af9ecbc",
   "metadata": {},
   "outputs": [],
   "source": [
    "log_dir = os.path.join('final_test7')\n",
    "tb_callback = TensorBoard(log_dir=log_dir) # it will allow us to moniter our tenserflow model "
   ]
  },
  {
   "cell_type": "code",
   "execution_count": 57,
   "id": "a68139e6",
   "metadata": {},
   "outputs": [],
   "source": [
    "model6 = Sequential() #initialize our sequential model (I need to check his tutoriel about sequentials to understand)\n",
    "#30,1662\n",
    "model6.add(LSTM(64, return_sequences=True, activation='relu', input_shape=(30,1662))) #our first layer\n",
    "model6.add(LSTM(128, return_sequences=True, activation='relu'))#our Second layer\n",
    "model6.add(LSTM(64, return_sequences=False, activation='relu'))#our third layer\n",
    "\n",
    "\n",
    "\n",
    "model6.add(Dense(64, activation='relu'))\n",
    "model6.add(Dense(64, activation='relu'))\n",
    "model6.add(Dense(32, activation='relu'))\n",
    "model6.add(Dense(32, activation='relu'))\n",
    "model6.add(Dense(actions.shape[0], activation='softmax'))"
   ]
  },
  {
   "cell_type": "code",
   "execution_count": 58,
   "id": "460c3bf5",
   "metadata": {},
   "outputs": [
    {
     "data": {
      "text/plain": [
       "(1860, 30, 1662)"
      ]
     },
     "execution_count": 58,
     "metadata": {},
     "output_type": "execute_result"
    }
   ],
   "source": [
    "X.shape\n"
   ]
  },
  {
   "cell_type": "code",
   "execution_count": 59,
   "id": "f498dd41",
   "metadata": {},
   "outputs": [
    {
     "data": {
      "text/plain": [
       "62"
      ]
     },
     "execution_count": 59,
     "metadata": {},
     "output_type": "execute_result"
    }
   ],
   "source": [
    "actions.shape[0]"
   ]
  },
  {
   "cell_type": "code",
   "execution_count": 60,
   "id": "f55d69a9",
   "metadata": {},
   "outputs": [],
   "source": [
    "#1- Adam\n",
    "model6.compile(optimizer='Adam', loss='categorical_crossentropy', metrics=['categorical_accuracy'])\n",
    "# we can change the optimazer option "
   ]
  },
  {
   "cell_type": "code",
   "execution_count": 61,
   "id": "27e8586c",
   "metadata": {},
   "outputs": [
    {
     "name": "stdout",
     "output_type": "stream",
     "text": [
      "Epoch 1/1000\n",
      "56/56 [==============================] - 59s 134ms/step - loss: 6.9850 - categorical_accuracy: 0.0170\n",
      "Epoch 2/1000\n",
      "56/56 [==============================] - 8s 134ms/step - loss: 4.5806 - categorical_accuracy: 0.0170\n",
      "Epoch 3/1000\n",
      "56/56 [==============================] - 7s 132ms/step - loss: 4.1912 - categorical_accuracy: 0.0141\n",
      "Epoch 4/1000\n",
      "56/56 [==============================] - 7s 133ms/step - loss: 4.1275 - categorical_accuracy: 0.0147\n",
      "Epoch 5/1000\n",
      "56/56 [==============================] - 8s 134ms/step - loss: 4.1275 - categorical_accuracy: 0.0147\n",
      "Epoch 6/1000\n",
      "56/56 [==============================] - 8s 137ms/step - loss: 4.1275 - categorical_accuracy: 0.0158\n",
      "Epoch 7/1000\n",
      "56/56 [==============================] - 8s 136ms/step - loss: 4.1274 - categorical_accuracy: 0.0141\n",
      "Epoch 8/1000\n",
      "56/56 [==============================] - 7s 133ms/step - loss: 4.1273 - categorical_accuracy: 0.0153\n",
      "Epoch 9/1000\n",
      "56/56 [==============================] - 7s 134ms/step - loss: 4.1273 - categorical_accuracy: 0.0164\n",
      "Epoch 10/1000\n",
      "56/56 [==============================] - 8s 141ms/step - loss: 4.1273 - categorical_accuracy: 0.0170\n",
      "Epoch 11/1000\n",
      "56/56 [==============================] - 7s 134ms/step - loss: 4.1273 - categorical_accuracy: 0.0170\n",
      "Epoch 12/1000\n",
      "56/56 [==============================] - 8s 137ms/step - loss: 4.1272 - categorical_accuracy: 0.0136\n",
      "Epoch 13/1000\n",
      "56/56 [==============================] - 8s 135ms/step - loss: 4.1271 - categorical_accuracy: 0.0147\n",
      "Epoch 14/1000\n",
      "56/56 [==============================] - 8s 134ms/step - loss: 4.1271 - categorical_accuracy: 0.0158\n",
      "Epoch 15/1000\n",
      "56/56 [==============================] - 7s 133ms/step - loss: 4.1271 - categorical_accuracy: 0.0170\n",
      "Epoch 16/1000\n",
      "56/56 [==============================] - 7s 134ms/step - loss: 4.1271 - categorical_accuracy: 0.0170\n",
      "Epoch 17/1000\n",
      "56/56 [==============================] - 7s 133ms/step - loss: 4.1271 - categorical_accuracy: 0.0170\n",
      "Epoch 18/1000\n",
      "56/56 [==============================] - 8s 135ms/step - loss: 4.1271 - categorical_accuracy: 0.0141\n",
      "Epoch 19/1000\n",
      "56/56 [==============================] - 7s 133ms/step - loss: 4.1271 - categorical_accuracy: 0.0125\n",
      "Epoch 20/1000\n",
      "56/56 [==============================] - 8s 141ms/step - loss: 4.1271 - categorical_accuracy: 0.0170\n",
      "Epoch 21/1000\n",
      "56/56 [==============================] - 8s 134ms/step - loss: 4.1270 - categorical_accuracy: 0.0170\n",
      "Epoch 22/1000\n",
      "56/56 [==============================] - 8s 135ms/step - loss: 4.1270 - categorical_accuracy: 0.0170\n",
      "Epoch 23/1000\n",
      "56/56 [==============================] - 8s 135ms/step - loss: 4.1270 - categorical_accuracy: 0.0170\n",
      "Epoch 24/1000\n",
      "56/56 [==============================] - 8s 136ms/step - loss: 4.1271 - categorical_accuracy: 0.0170\n",
      "Epoch 25/1000\n",
      "56/56 [==============================] - 7s 133ms/step - loss: 4.1270 - categorical_accuracy: 0.0170\n",
      "Epoch 26/1000\n",
      "56/56 [==============================] - 8s 135ms/step - loss: 4.1270 - categorical_accuracy: 0.0170\n",
      "Epoch 27/1000\n",
      "56/56 [==============================] - 8s 135ms/step - loss: 4.1270 - categorical_accuracy: 0.0119\n",
      "Epoch 28/1000\n",
      "56/56 [==============================] - 8s 142ms/step - loss: 4.1270 - categorical_accuracy: 0.0170\n",
      "Epoch 29/1000\n",
      "56/56 [==============================] - 8s 142ms/step - loss: 4.1269 - categorical_accuracy: 0.0170\n",
      "Epoch 30/1000\n",
      "56/56 [==============================] - 8s 140ms/step - loss: 4.1270 - categorical_accuracy: 0.0170\n",
      "Epoch 31/1000\n",
      "56/56 [==============================] - 8s 134ms/step - loss: 4.1269 - categorical_accuracy: 0.0170\n",
      "Epoch 32/1000\n",
      "56/56 [==============================] - 8s 135ms/step - loss: 4.1269 - categorical_accuracy: 0.0170\n",
      "Epoch 33/1000\n",
      "56/56 [==============================] - 8s 137ms/step - loss: 4.1269 - categorical_accuracy: 0.0141\n",
      "Epoch 34/1000\n",
      "56/56 [==============================] - 8s 135ms/step - loss: 4.1269 - categorical_accuracy: 0.0125\n",
      "Epoch 35/1000\n",
      "56/56 [==============================] - 7s 134ms/step - loss: 4.1269 - categorical_accuracy: 0.0158\n",
      "Epoch 36/1000\n",
      "56/56 [==============================] - 8s 134ms/step - loss: 4.1269 - categorical_accuracy: 0.0170\n",
      "Epoch 37/1000\n",
      "56/56 [==============================] - 8s 137ms/step - loss: 4.1270 - categorical_accuracy: 0.0170\n",
      "Epoch 38/1000\n",
      "56/56 [==============================] - 8s 135ms/step - loss: 4.1269 - categorical_accuracy: 0.0170\n",
      "Epoch 39/1000\n",
      "56/56 [==============================] - 8s 135ms/step - loss: 4.1269 - categorical_accuracy: 0.0170\n",
      "Epoch 40/1000\n",
      "56/56 [==============================] - 8s 141ms/step - loss: 4.1269 - categorical_accuracy: 0.0170\n",
      "Epoch 41/1000\n",
      "56/56 [==============================] - 8s 140ms/step - loss: 4.1269 - categorical_accuracy: 0.0170\n",
      "Epoch 42/1000\n",
      "56/56 [==============================] - 8s 143ms/step - loss: 4.1269 - categorical_accuracy: 0.0170\n",
      "Epoch 43/1000\n",
      "56/56 [==============================] - 8s 138ms/step - loss: 4.1269 - categorical_accuracy: 0.0170\n",
      "Epoch 44/1000\n",
      "56/56 [==============================] - 8s 136ms/step - loss: 4.1269 - categorical_accuracy: 0.0170\n",
      "Epoch 45/1000\n",
      "56/56 [==============================] - 8s 136ms/step - loss: 4.1269 - categorical_accuracy: 0.0170\n",
      "Epoch 46/1000\n",
      "56/56 [==============================] - 8s 136ms/step - loss: 4.1269 - categorical_accuracy: 0.0170\n",
      "Epoch 47/1000\n",
      "56/56 [==============================] - 8s 135ms/step - loss: 4.1269 - categorical_accuracy: 0.0170\n",
      "Epoch 48/1000\n",
      "56/56 [==============================] - 8s 136ms/step - loss: 4.1269 - categorical_accuracy: 0.0170\n",
      "Epoch 49/1000\n",
      "56/56 [==============================] - 8s 140ms/step - loss: 4.1269 - categorical_accuracy: 0.0113\n",
      "Epoch 50/1000\n",
      "56/56 [==============================] - 8s 140ms/step - loss: 4.1268 - categorical_accuracy: 0.0164\n",
      "Epoch 51/1000\n",
      "56/56 [==============================] - 8s 139ms/step - loss: 4.1269 - categorical_accuracy: 0.0158\n",
      "Epoch 52/1000\n",
      "56/56 [==============================] - 8s 137ms/step - loss: 4.1268 - categorical_accuracy: 0.0141\n",
      "Epoch 53/1000\n",
      "56/56 [==============================] - 8s 143ms/step - loss: 4.1268 - categorical_accuracy: 0.0170\n",
      "Epoch 54/1000\n",
      "56/56 [==============================] - 8s 142ms/step - loss: 4.1268 - categorical_accuracy: 0.0170\n",
      "Epoch 55/1000\n",
      "56/56 [==============================] - 8s 140ms/step - loss: 4.1269 - categorical_accuracy: 0.0170\n",
      "Epoch 56/1000\n",
      "56/56 [==============================] - 8s 135ms/step - loss: 4.1268 - categorical_accuracy: 0.0130\n",
      "Epoch 57/1000\n",
      "56/56 [==============================] - 8s 140ms/step - loss: 4.1268 - categorical_accuracy: 0.0141\n",
      "Epoch 58/1000\n",
      "56/56 [==============================] - 8s 136ms/step - loss: 4.1269 - categorical_accuracy: 0.0125\n",
      "Epoch 59/1000\n",
      "56/56 [==============================] - 8s 142ms/step - loss: 4.1268 - categorical_accuracy: 0.0119\n",
      "Epoch 60/1000\n",
      "56/56 [==============================] - 8s 141ms/step - loss: 4.1269 - categorical_accuracy: 0.0170\n",
      "Epoch 61/1000\n",
      "56/56 [==============================] - 8s 139ms/step - loss: 4.1268 - categorical_accuracy: 0.0170\n",
      "Epoch 62/1000\n",
      "56/56 [==============================] - 8s 139ms/step - loss: 4.1269 - categorical_accuracy: 0.0147\n",
      "Epoch 63/1000\n",
      "56/56 [==============================] - 8s 138ms/step - loss: 4.1269 - categorical_accuracy: 0.0125\n",
      "Epoch 64/1000\n",
      "56/56 [==============================] - 8s 138ms/step - loss: 4.1268 - categorical_accuracy: 0.0130\n",
      "Epoch 65/1000\n",
      "56/56 [==============================] - 8s 139ms/step - loss: 4.1269 - categorical_accuracy: 0.0108\n",
      "Epoch 66/1000\n",
      "56/56 [==============================] - 8s 138ms/step - loss: 4.1269 - categorical_accuracy: 0.0158\n",
      "Epoch 67/1000\n",
      "56/56 [==============================] - 8s 138ms/step - loss: 4.1269 - categorical_accuracy: 0.0136\n",
      "Epoch 68/1000\n",
      "56/56 [==============================] - 8s 140ms/step - loss: 4.1268 - categorical_accuracy: 0.0158\n",
      "Epoch 69/1000\n",
      "56/56 [==============================] - 8s 138ms/step - loss: 4.1269 - categorical_accuracy: 0.0125\n",
      "Epoch 70/1000\n",
      "56/56 [==============================] - 8s 138ms/step - loss: 4.1268 - categorical_accuracy: 0.0153\n",
      "Epoch 71/1000\n",
      "56/56 [==============================] - 8s 137ms/step - loss: 4.1269 - categorical_accuracy: 0.0170\n",
      "Epoch 72/1000\n",
      "56/56 [==============================] - 7s 133ms/step - loss: 4.1268 - categorical_accuracy: 0.0170\n",
      "Epoch 73/1000\n",
      "56/56 [==============================] - 7s 133ms/step - loss: 4.1268 - categorical_accuracy: 0.0170\n",
      "Epoch 74/1000\n",
      "56/56 [==============================] - 7s 130ms/step - loss: 4.1268 - categorical_accuracy: 0.0170\n",
      "Epoch 75/1000\n",
      "56/56 [==============================] - 7s 130ms/step - loss: 4.1268 - categorical_accuracy: 0.0170\n",
      "Epoch 76/1000\n",
      "56/56 [==============================] - 7s 133ms/step - loss: 4.1269 - categorical_accuracy: 0.0170\n",
      "Epoch 77/1000\n",
      "56/56 [==============================] - 7s 132ms/step - loss: 4.1269 - categorical_accuracy: 0.0170\n",
      "Epoch 78/1000\n",
      "56/56 [==============================] - 7s 131ms/step - loss: 4.1269 - categorical_accuracy: 0.0136\n",
      "Epoch 79/1000\n",
      "56/56 [==============================] - 7s 132ms/step - loss: 4.1268 - categorical_accuracy: 0.0170\n",
      "Epoch 80/1000\n",
      "56/56 [==============================] - 7s 132ms/step - loss: 4.1268 - categorical_accuracy: 0.0170\n",
      "Epoch 81/1000\n",
      "56/56 [==============================] - 7s 134ms/step - loss: 4.1268 - categorical_accuracy: 0.0170\n",
      "Epoch 82/1000\n",
      "56/56 [==============================] - 7s 131ms/step - loss: 4.1268 - categorical_accuracy: 0.0170\n",
      "Epoch 83/1000\n",
      "56/56 [==============================] - 7s 131ms/step - loss: 4.1268 - categorical_accuracy: 0.0170\n",
      "Epoch 84/1000\n",
      "56/56 [==============================] - 7s 132ms/step - loss: 4.1268 - categorical_accuracy: 0.0170\n",
      "Epoch 85/1000\n",
      "56/56 [==============================] - 7s 132ms/step - loss: 4.1268 - categorical_accuracy: 0.0170\n",
      "Epoch 86/1000\n",
      "56/56 [==============================] - 7s 132ms/step - loss: 4.1268 - categorical_accuracy: 0.0170\n",
      "Epoch 87/1000\n",
      "56/56 [==============================] - 7s 131ms/step - loss: 4.1268 - categorical_accuracy: 0.0170\n",
      "Epoch 88/1000\n",
      "56/56 [==============================] - 7s 133ms/step - loss: 4.1268 - categorical_accuracy: 0.0147\n",
      "Epoch 89/1000\n",
      "56/56 [==============================] - 8s 140ms/step - loss: 4.1268 - categorical_accuracy: 0.0147\n",
      "Epoch 90/1000\n",
      "56/56 [==============================] - 8s 141ms/step - loss: 4.1268 - categorical_accuracy: 0.0147\n",
      "Epoch 91/1000\n",
      "56/56 [==============================] - 8s 135ms/step - loss: 4.1268 - categorical_accuracy: 0.0164\n",
      "Epoch 92/1000\n",
      "56/56 [==============================] - 8s 138ms/step - loss: 4.1268 - categorical_accuracy: 0.0170\n",
      "Epoch 93/1000\n",
      "56/56 [==============================] - 8s 138ms/step - loss: 4.1268 - categorical_accuracy: 0.0170\n",
      "Epoch 94/1000\n",
      "56/56 [==============================] - 7s 133ms/step - loss: 4.1268 - categorical_accuracy: 0.0170\n",
      "Epoch 95/1000\n",
      "56/56 [==============================] - 7s 134ms/step - loss: 4.1269 - categorical_accuracy: 0.0147\n",
      "Epoch 96/1000\n",
      "56/56 [==============================] - 7s 132ms/step - loss: 4.1268 - categorical_accuracy: 0.0170\n",
      "Epoch 97/1000\n",
      "56/56 [==============================] - 7s 134ms/step - loss: 4.1268 - categorical_accuracy: 0.0108\n",
      "Epoch 98/1000\n",
      "56/56 [==============================] - 8s 136ms/step - loss: 4.1268 - categorical_accuracy: 0.0170\n",
      "Epoch 99/1000\n",
      "56/56 [==============================] - 8s 136ms/step - loss: 4.1269 - categorical_accuracy: 0.0170\n",
      "Epoch 100/1000\n",
      "56/56 [==============================] - 7s 133ms/step - loss: 4.1269 - categorical_accuracy: 0.0170\n",
      "Epoch 101/1000\n",
      "56/56 [==============================] - 7s 134ms/step - loss: 4.1269 - categorical_accuracy: 0.0119\n",
      "Epoch 102/1000\n",
      "56/56 [==============================] - 8s 135ms/step - loss: 4.1268 - categorical_accuracy: 0.0170\n",
      "Epoch 103/1000\n",
      "56/56 [==============================] - 7s 134ms/step - loss: 4.1269 - categorical_accuracy: 0.0170\n",
      "Epoch 104/1000\n",
      "56/56 [==============================] - 8s 135ms/step - loss: 4.1268 - categorical_accuracy: 0.0170\n",
      "Epoch 105/1000\n",
      "56/56 [==============================] - 8s 135ms/step - loss: 4.1268 - categorical_accuracy: 0.0136\n",
      "Epoch 106/1000\n",
      "56/56 [==============================] - 8s 134ms/step - loss: 4.1268 - categorical_accuracy: 0.0170\n",
      "Epoch 107/1000\n",
      "56/56 [==============================] - 7s 132ms/step - loss: 4.1269 - categorical_accuracy: 0.0147\n",
      "Epoch 108/1000\n",
      "56/56 [==============================] - 8s 134ms/step - loss: 4.1268 - categorical_accuracy: 0.0141\n",
      "Epoch 109/1000\n",
      "56/56 [==============================] - 8s 134ms/step - loss: 4.1269 - categorical_accuracy: 0.0170\n",
      "Epoch 110/1000\n",
      "56/56 [==============================] - 8s 135ms/step - loss: 4.1269 - categorical_accuracy: 0.0170\n",
      "Epoch 111/1000\n",
      "56/56 [==============================] - 8s 136ms/step - loss: 4.1268 - categorical_accuracy: 0.0170\n",
      "Epoch 112/1000\n",
      "56/56 [==============================] - 8s 136ms/step - loss: 4.1269 - categorical_accuracy: 0.0147\n",
      "Epoch 113/1000\n",
      "56/56 [==============================] - 8s 136ms/step - loss: 4.1269 - categorical_accuracy: 0.0096\n",
      "Epoch 114/1000\n",
      "56/56 [==============================] - 8s 138ms/step - loss: 4.1268 - categorical_accuracy: 0.0147\n",
      "Epoch 115/1000\n",
      "56/56 [==============================] - 7s 133ms/step - loss: 4.1268 - categorical_accuracy: 0.0141\n",
      "Epoch 116/1000\n",
      "56/56 [==============================] - 7s 133ms/step - loss: 4.1268 - categorical_accuracy: 0.0119\n",
      "Epoch 117/1000\n",
      "56/56 [==============================] - 8s 134ms/step - loss: 4.1268 - categorical_accuracy: 0.0153\n",
      "Epoch 118/1000\n",
      "56/56 [==============================] - 7s 133ms/step - loss: 4.1269 - categorical_accuracy: 0.0153\n",
      "Epoch 119/1000\n",
      "56/56 [==============================] - 8s 140ms/step - loss: 4.1268 - categorical_accuracy: 0.0130\n",
      "Epoch 120/1000\n",
      "56/56 [==============================] - 8s 136ms/step - loss: 4.1268 - categorical_accuracy: 0.0125\n",
      "Epoch 121/1000\n",
      "56/56 [==============================] - 8s 135ms/step - loss: 4.1268 - categorical_accuracy: 0.0170\n",
      "Epoch 122/1000\n",
      "56/56 [==============================] - 8s 135ms/step - loss: 4.1268 - categorical_accuracy: 0.0170\n",
      "Epoch 123/1000\n",
      "56/56 [==============================] - 8s 134ms/step - loss: 4.1268 - categorical_accuracy: 0.0170\n",
      "Epoch 124/1000\n",
      "56/56 [==============================] - 8s 135ms/step - loss: 4.1268 - categorical_accuracy: 0.0170\n",
      "Epoch 125/1000\n",
      "56/56 [==============================] - 8s 137ms/step - loss: 4.1268 - categorical_accuracy: 0.0170\n",
      "Epoch 126/1000\n",
      "56/56 [==============================] - 8s 137ms/step - loss: 4.1268 - categorical_accuracy: 0.0170\n",
      "Epoch 127/1000\n",
      "56/56 [==============================] - 8s 134ms/step - loss: 4.1269 - categorical_accuracy: 0.0170\n",
      "Epoch 128/1000\n",
      "56/56 [==============================] - 8s 138ms/step - loss: 4.1268 - categorical_accuracy: 0.0170\n",
      "Epoch 129/1000\n",
      "56/56 [==============================] - 8s 136ms/step - loss: 4.1268 - categorical_accuracy: 0.0170\n",
      "Epoch 130/1000\n",
      "56/56 [==============================] - 8s 135ms/step - loss: 4.1268 - categorical_accuracy: 0.0153\n",
      "Epoch 131/1000\n",
      "56/56 [==============================] - 8s 135ms/step - loss: 4.1269 - categorical_accuracy: 0.0153\n",
      "Epoch 132/1000\n",
      "56/56 [==============================] - 8s 135ms/step - loss: 4.1269 - categorical_accuracy: 0.0170\n",
      "Epoch 133/1000\n",
      "56/56 [==============================] - 8s 136ms/step - loss: 4.1269 - categorical_accuracy: 0.0170\n",
      "Epoch 134/1000\n",
      "56/56 [==============================] - 8s 135ms/step - loss: 4.1268 - categorical_accuracy: 0.0170\n",
      "Epoch 135/1000\n",
      "56/56 [==============================] - 8s 138ms/step - loss: 4.1268 - categorical_accuracy: 0.0170\n",
      "Epoch 136/1000\n",
      "56/56 [==============================] - 8s 138ms/step - loss: 4.1268 - categorical_accuracy: 0.0170\n",
      "Epoch 137/1000\n",
      "56/56 [==============================] - 8s 134ms/step - loss: 4.1268 - categorical_accuracy: 0.0170\n",
      "Epoch 138/1000\n",
      "56/56 [==============================] - 8s 142ms/step - loss: 4.1268 - categorical_accuracy: 0.0170\n",
      "Epoch 139/1000\n",
      "56/56 [==============================] - 8s 137ms/step - loss: 4.1269 - categorical_accuracy: 0.0170\n",
      "Epoch 140/1000\n",
      "56/56 [==============================] - 8s 135ms/step - loss: 4.1268 - categorical_accuracy: 0.0170\n",
      "Epoch 141/1000\n",
      "56/56 [==============================] - 8s 135ms/step - loss: 4.1268 - categorical_accuracy: 0.0170\n",
      "Epoch 142/1000\n",
      "56/56 [==============================] - 8s 135ms/step - loss: 4.1269 - categorical_accuracy: 0.0170\n"
     ]
    },
    {
     "name": "stdout",
     "output_type": "stream",
     "text": [
      "Epoch 143/1000\n",
      "56/56 [==============================] - 8s 135ms/step - loss: 4.1268 - categorical_accuracy: 0.0136\n",
      "Epoch 144/1000\n",
      "56/56 [==============================] - 7s 133ms/step - loss: 4.1269 - categorical_accuracy: 0.0153\n",
      "Epoch 145/1000\n",
      "56/56 [==============================] - 7s 131ms/step - loss: 4.1268 - categorical_accuracy: 0.0153\n",
      "Epoch 146/1000\n",
      "56/56 [==============================] - 7s 133ms/step - loss: 4.1268 - categorical_accuracy: 0.0158\n",
      "Epoch 147/1000\n",
      "56/56 [==============================] - 7s 131ms/step - loss: 4.1269 - categorical_accuracy: 0.0130\n",
      "Epoch 148/1000\n",
      "56/56 [==============================] - 7s 132ms/step - loss: 4.1268 - categorical_accuracy: 0.0125\n",
      "Epoch 149/1000\n",
      "56/56 [==============================] - 7s 131ms/step - loss: 4.1269 - categorical_accuracy: 0.0170\n",
      "Epoch 150/1000\n",
      "56/56 [==============================] - 7s 130ms/step - loss: 4.1269 - categorical_accuracy: 0.0170\n",
      "Epoch 151/1000\n",
      "56/56 [==============================] - 7s 131ms/step - loss: 4.1268 - categorical_accuracy: 0.0158\n",
      "Epoch 152/1000\n",
      "56/56 [==============================] - 7s 132ms/step - loss: 4.1269 - categorical_accuracy: 0.0158\n",
      "Epoch 153/1000\n",
      "56/56 [==============================] - 7s 131ms/step - loss: 4.1268 - categorical_accuracy: 0.0170\n",
      "Epoch 154/1000\n",
      "56/56 [==============================] - 7s 131ms/step - loss: 4.1268 - categorical_accuracy: 0.0125\n",
      "Epoch 155/1000\n",
      "56/56 [==============================] - 7s 130ms/step - loss: 4.1269 - categorical_accuracy: 0.0141\n",
      "Epoch 156/1000\n",
      "56/56 [==============================] - 7s 132ms/step - loss: 4.1269 - categorical_accuracy: 0.0102\n",
      "Epoch 157/1000\n",
      "56/56 [==============================] - 7s 132ms/step - loss: 4.1269 - categorical_accuracy: 0.0164\n",
      "Epoch 158/1000\n",
      "56/56 [==============================] - 7s 131ms/step - loss: 4.1268 - categorical_accuracy: 0.0170\n",
      "Epoch 159/1000\n",
      "56/56 [==============================] - 7s 132ms/step - loss: 4.1270 - categorical_accuracy: 0.0170\n",
      "Epoch 160/1000\n",
      "56/56 [==============================] - 8s 134ms/step - loss: 4.1268 - categorical_accuracy: 0.0130\n",
      "Epoch 161/1000\n",
      "56/56 [==============================] - 7s 130ms/step - loss: 4.1268 - categorical_accuracy: 0.0170\n",
      "Epoch 162/1000\n",
      "56/56 [==============================] - 8s 139ms/step - loss: 4.1268 - categorical_accuracy: 0.0153\n",
      "Epoch 163/1000\n",
      "56/56 [==============================] - 8s 135ms/step - loss: 4.1268 - categorical_accuracy: 0.0125\n",
      "Epoch 164/1000\n",
      "56/56 [==============================] - 7s 132ms/step - loss: 4.1268 - categorical_accuracy: 0.0158\n",
      "Epoch 165/1000\n",
      "56/56 [==============================] - 7s 131ms/step - loss: 4.1268 - categorical_accuracy: 0.0147\n",
      "Epoch 166/1000\n",
      "56/56 [==============================] - 7s 130ms/step - loss: 4.1268 - categorical_accuracy: 0.0170\n",
      "Epoch 167/1000\n",
      "56/56 [==============================] - 7s 132ms/step - loss: 4.1269 - categorical_accuracy: 0.0170\n",
      "Epoch 168/1000\n",
      "56/56 [==============================] - 8s 138ms/step - loss: 4.1268 - categorical_accuracy: 0.0136\n",
      "Epoch 169/1000\n",
      "56/56 [==============================] - 8s 140ms/step - loss: 4.1268 - categorical_accuracy: 0.0108\n",
      "Epoch 170/1000\n",
      "56/56 [==============================] - 8s 134ms/step - loss: 4.1269 - categorical_accuracy: 0.0175\n",
      "Epoch 171/1000\n",
      "56/56 [==============================] - 7s 132ms/step - loss: 4.1269 - categorical_accuracy: 0.0170\n",
      "Epoch 172/1000\n",
      "56/56 [==============================] - 7s 133ms/step - loss: 4.1269 - categorical_accuracy: 0.0170\n",
      "Epoch 173/1000\n",
      "56/56 [==============================] - 7s 133ms/step - loss: 4.1268 - categorical_accuracy: 0.0170\n",
      "Epoch 174/1000\n",
      "56/56 [==============================] - 7s 131ms/step - loss: 4.1268 - categorical_accuracy: 0.0113\n",
      "Epoch 175/1000\n",
      "56/56 [==============================] - 7s 131ms/step - loss: 4.1268 - categorical_accuracy: 0.0170\n",
      "Epoch 176/1000\n",
      "56/56 [==============================] - 7s 133ms/step - loss: 4.1269 - categorical_accuracy: 0.0170\n",
      "Epoch 177/1000\n",
      "56/56 [==============================] - 7s 132ms/step - loss: 4.1268 - categorical_accuracy: 0.0170\n",
      "Epoch 178/1000\n",
      "56/56 [==============================] - 8s 137ms/step - loss: 4.1268 - categorical_accuracy: 0.0170\n",
      "Epoch 179/1000\n",
      "56/56 [==============================] - 8s 139ms/step - loss: 4.1269 - categorical_accuracy: 0.0158\n",
      "Epoch 180/1000\n",
      "56/56 [==============================] - 8s 134ms/step - loss: 4.1268 - categorical_accuracy: 0.0170\n",
      "Epoch 181/1000\n",
      "56/56 [==============================] - 7s 133ms/step - loss: 4.1268 - categorical_accuracy: 0.0136\n",
      "Epoch 182/1000\n",
      "56/56 [==============================] - 7s 132ms/step - loss: 4.1268 - categorical_accuracy: 0.0119\n",
      "Epoch 183/1000\n",
      "56/56 [==============================] - 7s 133ms/step - loss: 4.1269 - categorical_accuracy: 0.0141\n",
      "Epoch 184/1000\n",
      "56/56 [==============================] - 7s 133ms/step - loss: 4.1268 - categorical_accuracy: 0.0113\n",
      "Epoch 185/1000\n",
      "56/56 [==============================] - 8s 138ms/step - loss: 4.1268 - categorical_accuracy: 0.0170\n",
      "Epoch 186/1000\n",
      "56/56 [==============================] - 7s 132ms/step - loss: 4.1268 - categorical_accuracy: 0.0170\n",
      "Epoch 187/1000\n",
      "56/56 [==============================] - 8s 136ms/step - loss: 4.1268 - categorical_accuracy: 0.0170\n",
      "Epoch 188/1000\n",
      "56/56 [==============================] - 7s 133ms/step - loss: 4.1269 - categorical_accuracy: 0.0170\n",
      "Epoch 189/1000\n",
      "56/56 [==============================] - 8s 134ms/step - loss: 4.1269 - categorical_accuracy: 0.0170\n",
      "Epoch 190/1000\n",
      "56/56 [==============================] - 7s 132ms/step - loss: 4.1269 - categorical_accuracy: 0.0170\n",
      "Epoch 191/1000\n",
      "56/56 [==============================] - 8s 139ms/step - loss: 4.1269 - categorical_accuracy: 0.0153\n",
      "Epoch 192/1000\n",
      "56/56 [==============================] - 8s 137ms/step - loss: 4.1268 - categorical_accuracy: 0.0170\n",
      "Epoch 193/1000\n",
      "56/56 [==============================] - 8s 135ms/step - loss: 4.1268 - categorical_accuracy: 0.0170\n",
      "Epoch 194/1000\n",
      "56/56 [==============================] - 8s 134ms/step - loss: 4.1268 - categorical_accuracy: 0.0170\n",
      "Epoch 195/1000\n",
      "56/56 [==============================] - 8s 138ms/step - loss: 4.1269 - categorical_accuracy: 0.0136\n",
      "Epoch 196/1000\n",
      "56/56 [==============================] - 8s 135ms/step - loss: 4.1268 - categorical_accuracy: 0.0170\n",
      "Epoch 197/1000\n",
      "56/56 [==============================] - 8s 138ms/step - loss: 4.1269 - categorical_accuracy: 0.0136\n",
      "Epoch 198/1000\n",
      "56/56 [==============================] - 8s 137ms/step - loss: 4.1269 - categorical_accuracy: 0.0147\n",
      "Epoch 199/1000\n",
      "56/56 [==============================] - 8s 136ms/step - loss: 4.1268 - categorical_accuracy: 0.0170\n",
      "Epoch 200/1000\n",
      "56/56 [==============================] - 8s 141ms/step - loss: 4.1268 - categorical_accuracy: 0.0170\n",
      "Epoch 201/1000\n",
      "56/56 [==============================] - 8s 141ms/step - loss: 4.1268 - categorical_accuracy: 0.0141\n",
      "Epoch 202/1000\n",
      "56/56 [==============================] - 8s 139ms/step - loss: 4.1269 - categorical_accuracy: 0.0170\n",
      "Epoch 203/1000\n",
      "56/56 [==============================] - 8s 138ms/step - loss: 4.1269 - categorical_accuracy: 0.0170\n",
      "Epoch 204/1000\n",
      "56/56 [==============================] - 8s 136ms/step - loss: 4.1268 - categorical_accuracy: 0.0170\n",
      "Epoch 205/1000\n",
      "56/56 [==============================] - 8s 138ms/step - loss: 4.1268 - categorical_accuracy: 0.0170\n",
      "Epoch 206/1000\n",
      "56/56 [==============================] - 8s 137ms/step - loss: 4.1268 - categorical_accuracy: 0.0170\n",
      "Epoch 207/1000\n",
      "56/56 [==============================] - 8s 142ms/step - loss: 4.1268 - categorical_accuracy: 0.0170\n",
      "Epoch 208/1000\n",
      "56/56 [==============================] - 9s 152ms/step - loss: 4.1268 - categorical_accuracy: 0.0170\n",
      "Epoch 209/1000\n",
      "56/56 [==============================] - 8s 141ms/step - loss: 4.1269 - categorical_accuracy: 0.0170\n",
      "Epoch 210/1000\n",
      "56/56 [==============================] - 8s 134ms/step - loss: 4.1268 - categorical_accuracy: 0.0170\n",
      "Epoch 211/1000\n",
      "56/56 [==============================] - 8s 136ms/step - loss: 4.1269 - categorical_accuracy: 0.0113\n",
      "Epoch 212/1000\n",
      "56/56 [==============================] - 8s 135ms/step - loss: 4.1268 - categorical_accuracy: 0.0153\n",
      "Epoch 213/1000\n",
      "56/56 [==============================] - 7s 129ms/step - loss: 4.1268 - categorical_accuracy: 0.0158\n",
      "Epoch 214/1000\n",
      "56/56 [==============================] - 7s 130ms/step - loss: 4.1268 - categorical_accuracy: 0.0170\n",
      "Epoch 215/1000\n",
      "56/56 [==============================] - 7s 130ms/step - loss: 4.1268 - categorical_accuracy: 0.0153\n",
      "Epoch 216/1000\n",
      "56/56 [==============================] - 7s 131ms/step - loss: 4.1269 - categorical_accuracy: 0.0153\n",
      "Epoch 217/1000\n",
      "56/56 [==============================] - 8s 135ms/step - loss: 4.1268 - categorical_accuracy: 0.0158\n",
      "Epoch 218/1000\n",
      "56/56 [==============================] - 8s 147ms/step - loss: 4.1268 - categorical_accuracy: 0.0141\n",
      "Epoch 219/1000\n",
      "56/56 [==============================] - 8s 143ms/step - loss: 4.1268 - categorical_accuracy: 0.0136\n",
      "Epoch 220/1000\n",
      "56/56 [==============================] - 8s 138ms/step - loss: 4.1268 - categorical_accuracy: 0.0125\n",
      "Epoch 221/1000\n",
      "56/56 [==============================] - 8s 134ms/step - loss: 4.1269 - categorical_accuracy: 0.0164\n",
      "Epoch 222/1000\n",
      "56/56 [==============================] - 7s 130ms/step - loss: 4.1269 - categorical_accuracy: 0.0170\n",
      "Epoch 223/1000\n",
      "56/56 [==============================] - 7s 130ms/step - loss: 4.1268 - categorical_accuracy: 0.0170\n",
      "Epoch 224/1000\n",
      "56/56 [==============================] - 7s 131ms/step - loss: 4.1268 - categorical_accuracy: 0.0170\n",
      "Epoch 225/1000\n",
      "56/56 [==============================] - 7s 132ms/step - loss: 4.1268 - categorical_accuracy: 0.0170\n",
      "Epoch 226/1000\n",
      "56/56 [==============================] - 10s 172ms/step - loss: 4.1269 - categorical_accuracy: 0.0170\n",
      "Epoch 227/1000\n",
      "56/56 [==============================] - 8s 151ms/step - loss: 4.1268 - categorical_accuracy: 0.0170\n",
      "Epoch 228/1000\n",
      " 2/56 [>.............................] - ETA: 9s - loss: 4.1189 - categorical_accuracy: 0.0156    "
     ]
    },
    {
     "ename": "KeyboardInterrupt",
     "evalue": "",
     "output_type": "error",
     "traceback": [
      "\u001b[1;31m---------------------------------------------------------------------------\u001b[0m",
      "\u001b[1;31mKeyboardInterrupt\u001b[0m                         Traceback (most recent call last)",
      "Cell \u001b[1;32mIn[61], line 1\u001b[0m\n\u001b[1;32m----> 1\u001b[0m \u001b[43mmodel6\u001b[49m\u001b[38;5;241;43m.\u001b[39;49m\u001b[43mfit\u001b[49m\u001b[43m(\u001b[49m\u001b[43mX_train\u001b[49m\u001b[43m,\u001b[49m\u001b[43m \u001b[49m\u001b[43my_train\u001b[49m\u001b[43m,\u001b[49m\u001b[43m \u001b[49m\u001b[43mepochs\u001b[49m\u001b[38;5;241;43m=\u001b[39;49m\u001b[38;5;241;43m1000\u001b[39;49m\u001b[43m,\u001b[49m\u001b[43m \u001b[49m\u001b[43mcallbacks\u001b[49m\u001b[38;5;241;43m=\u001b[39;49m\u001b[43m[\u001b[49m\u001b[43mtb_callback\u001b[49m\u001b[43m]\u001b[49m\u001b[43m)\u001b[49m\n",
      "File \u001b[1;32m~\\AppData\\Roaming\\Python\\Python310\\site-packages\\keras\\utils\\traceback_utils.py:65\u001b[0m, in \u001b[0;36mfilter_traceback.<locals>.error_handler\u001b[1;34m(*args, **kwargs)\u001b[0m\n\u001b[0;32m     63\u001b[0m filtered_tb \u001b[38;5;241m=\u001b[39m \u001b[38;5;28;01mNone\u001b[39;00m\n\u001b[0;32m     64\u001b[0m \u001b[38;5;28;01mtry\u001b[39;00m:\n\u001b[1;32m---> 65\u001b[0m     \u001b[38;5;28;01mreturn\u001b[39;00m fn(\u001b[38;5;241m*\u001b[39margs, \u001b[38;5;241m*\u001b[39m\u001b[38;5;241m*\u001b[39mkwargs)\n\u001b[0;32m     66\u001b[0m \u001b[38;5;28;01mexcept\u001b[39;00m \u001b[38;5;167;01mException\u001b[39;00m \u001b[38;5;28;01mas\u001b[39;00m e:\n\u001b[0;32m     67\u001b[0m     filtered_tb \u001b[38;5;241m=\u001b[39m _process_traceback_frames(e\u001b[38;5;241m.\u001b[39m__traceback__)\n",
      "File \u001b[1;32m~\\AppData\\Roaming\\Python\\Python310\\site-packages\\keras\\engine\\training.py:1685\u001b[0m, in \u001b[0;36mModel.fit\u001b[1;34m(self, x, y, batch_size, epochs, verbose, callbacks, validation_split, validation_data, shuffle, class_weight, sample_weight, initial_epoch, steps_per_epoch, validation_steps, validation_batch_size, validation_freq, max_queue_size, workers, use_multiprocessing)\u001b[0m\n\u001b[0;32m   1677\u001b[0m \u001b[38;5;28;01mwith\u001b[39;00m tf\u001b[38;5;241m.\u001b[39mprofiler\u001b[38;5;241m.\u001b[39mexperimental\u001b[38;5;241m.\u001b[39mTrace(\n\u001b[0;32m   1678\u001b[0m     \u001b[38;5;124m\"\u001b[39m\u001b[38;5;124mtrain\u001b[39m\u001b[38;5;124m\"\u001b[39m,\n\u001b[0;32m   1679\u001b[0m     epoch_num\u001b[38;5;241m=\u001b[39mepoch,\n\u001b[1;32m   (...)\u001b[0m\n\u001b[0;32m   1682\u001b[0m     _r\u001b[38;5;241m=\u001b[39m\u001b[38;5;241m1\u001b[39m,\n\u001b[0;32m   1683\u001b[0m ):\n\u001b[0;32m   1684\u001b[0m     callbacks\u001b[38;5;241m.\u001b[39mon_train_batch_begin(step)\n\u001b[1;32m-> 1685\u001b[0m     tmp_logs \u001b[38;5;241m=\u001b[39m \u001b[38;5;28;43mself\u001b[39;49m\u001b[38;5;241;43m.\u001b[39;49m\u001b[43mtrain_function\u001b[49m\u001b[43m(\u001b[49m\u001b[43miterator\u001b[49m\u001b[43m)\u001b[49m\n\u001b[0;32m   1686\u001b[0m     \u001b[38;5;28;01mif\u001b[39;00m data_handler\u001b[38;5;241m.\u001b[39mshould_sync:\n\u001b[0;32m   1687\u001b[0m         context\u001b[38;5;241m.\u001b[39masync_wait()\n",
      "File \u001b[1;32m~\\AppData\\Roaming\\Python\\Python310\\site-packages\\tensorflow\\python\\util\\traceback_utils.py:150\u001b[0m, in \u001b[0;36mfilter_traceback.<locals>.error_handler\u001b[1;34m(*args, **kwargs)\u001b[0m\n\u001b[0;32m    148\u001b[0m filtered_tb \u001b[38;5;241m=\u001b[39m \u001b[38;5;28;01mNone\u001b[39;00m\n\u001b[0;32m    149\u001b[0m \u001b[38;5;28;01mtry\u001b[39;00m:\n\u001b[1;32m--> 150\u001b[0m   \u001b[38;5;28;01mreturn\u001b[39;00m fn(\u001b[38;5;241m*\u001b[39margs, \u001b[38;5;241m*\u001b[39m\u001b[38;5;241m*\u001b[39mkwargs)\n\u001b[0;32m    151\u001b[0m \u001b[38;5;28;01mexcept\u001b[39;00m \u001b[38;5;167;01mException\u001b[39;00m \u001b[38;5;28;01mas\u001b[39;00m e:\n\u001b[0;32m    152\u001b[0m   filtered_tb \u001b[38;5;241m=\u001b[39m _process_traceback_frames(e\u001b[38;5;241m.\u001b[39m__traceback__)\n",
      "File \u001b[1;32m~\\AppData\\Roaming\\Python\\Python310\\site-packages\\tensorflow\\python\\eager\\polymorphic_function\\polymorphic_function.py:894\u001b[0m, in \u001b[0;36mFunction.__call__\u001b[1;34m(self, *args, **kwds)\u001b[0m\n\u001b[0;32m    891\u001b[0m compiler \u001b[38;5;241m=\u001b[39m \u001b[38;5;124m\"\u001b[39m\u001b[38;5;124mxla\u001b[39m\u001b[38;5;124m\"\u001b[39m \u001b[38;5;28;01mif\u001b[39;00m \u001b[38;5;28mself\u001b[39m\u001b[38;5;241m.\u001b[39m_jit_compile \u001b[38;5;28;01melse\u001b[39;00m \u001b[38;5;124m\"\u001b[39m\u001b[38;5;124mnonXla\u001b[39m\u001b[38;5;124m\"\u001b[39m\n\u001b[0;32m    893\u001b[0m \u001b[38;5;28;01mwith\u001b[39;00m OptionalXlaContext(\u001b[38;5;28mself\u001b[39m\u001b[38;5;241m.\u001b[39m_jit_compile):\n\u001b[1;32m--> 894\u001b[0m   result \u001b[38;5;241m=\u001b[39m \u001b[38;5;28mself\u001b[39m\u001b[38;5;241m.\u001b[39m_call(\u001b[38;5;241m*\u001b[39margs, \u001b[38;5;241m*\u001b[39m\u001b[38;5;241m*\u001b[39mkwds)\n\u001b[0;32m    896\u001b[0m new_tracing_count \u001b[38;5;241m=\u001b[39m \u001b[38;5;28mself\u001b[39m\u001b[38;5;241m.\u001b[39mexperimental_get_tracing_count()\n\u001b[0;32m    897\u001b[0m without_tracing \u001b[38;5;241m=\u001b[39m (tracing_count \u001b[38;5;241m==\u001b[39m new_tracing_count)\n",
      "File \u001b[1;32m~\\AppData\\Roaming\\Python\\Python310\\site-packages\\tensorflow\\python\\eager\\polymorphic_function\\polymorphic_function.py:926\u001b[0m, in \u001b[0;36mFunction._call\u001b[1;34m(self, *args, **kwds)\u001b[0m\n\u001b[0;32m    923\u001b[0m   \u001b[38;5;28mself\u001b[39m\u001b[38;5;241m.\u001b[39m_lock\u001b[38;5;241m.\u001b[39mrelease()\n\u001b[0;32m    924\u001b[0m   \u001b[38;5;66;03m# In this case we have created variables on the first call, so we run the\u001b[39;00m\n\u001b[0;32m    925\u001b[0m   \u001b[38;5;66;03m# defunned version which is guaranteed to never create variables.\u001b[39;00m\n\u001b[1;32m--> 926\u001b[0m   \u001b[38;5;28;01mreturn\u001b[39;00m \u001b[38;5;28mself\u001b[39m\u001b[38;5;241m.\u001b[39m_no_variable_creation_fn(\u001b[38;5;241m*\u001b[39margs, \u001b[38;5;241m*\u001b[39m\u001b[38;5;241m*\u001b[39mkwds)  \u001b[38;5;66;03m# pylint: disable=not-callable\u001b[39;00m\n\u001b[0;32m    927\u001b[0m \u001b[38;5;28;01melif\u001b[39;00m \u001b[38;5;28mself\u001b[39m\u001b[38;5;241m.\u001b[39m_variable_creation_fn \u001b[38;5;129;01mis\u001b[39;00m \u001b[38;5;129;01mnot\u001b[39;00m \u001b[38;5;28;01mNone\u001b[39;00m:\n\u001b[0;32m    928\u001b[0m   \u001b[38;5;66;03m# Release the lock early so that multiple threads can perform the call\u001b[39;00m\n\u001b[0;32m    929\u001b[0m   \u001b[38;5;66;03m# in parallel.\u001b[39;00m\n\u001b[0;32m    930\u001b[0m   \u001b[38;5;28mself\u001b[39m\u001b[38;5;241m.\u001b[39m_lock\u001b[38;5;241m.\u001b[39mrelease()\n",
      "File \u001b[1;32m~\\AppData\\Roaming\\Python\\Python310\\site-packages\\tensorflow\\python\\eager\\polymorphic_function\\tracing_compiler.py:143\u001b[0m, in \u001b[0;36mTracingCompiler.__call__\u001b[1;34m(self, *args, **kwargs)\u001b[0m\n\u001b[0;32m    140\u001b[0m \u001b[38;5;28;01mwith\u001b[39;00m \u001b[38;5;28mself\u001b[39m\u001b[38;5;241m.\u001b[39m_lock:\n\u001b[0;32m    141\u001b[0m   (concrete_function,\n\u001b[0;32m    142\u001b[0m    filtered_flat_args) \u001b[38;5;241m=\u001b[39m \u001b[38;5;28mself\u001b[39m\u001b[38;5;241m.\u001b[39m_maybe_define_function(args, kwargs)\n\u001b[1;32m--> 143\u001b[0m \u001b[38;5;28;01mreturn\u001b[39;00m \u001b[43mconcrete_function\u001b[49m\u001b[38;5;241;43m.\u001b[39;49m\u001b[43m_call_flat\u001b[49m\u001b[43m(\u001b[49m\n\u001b[0;32m    144\u001b[0m \u001b[43m    \u001b[49m\u001b[43mfiltered_flat_args\u001b[49m\u001b[43m,\u001b[49m\u001b[43m \u001b[49m\u001b[43mcaptured_inputs\u001b[49m\u001b[38;5;241;43m=\u001b[39;49m\u001b[43mconcrete_function\u001b[49m\u001b[38;5;241;43m.\u001b[39;49m\u001b[43mcaptured_inputs\u001b[49m\u001b[43m)\u001b[49m\n",
      "File \u001b[1;32m~\\AppData\\Roaming\\Python\\Python310\\site-packages\\tensorflow\\python\\eager\\polymorphic_function\\monomorphic_function.py:1757\u001b[0m, in \u001b[0;36mConcreteFunction._call_flat\u001b[1;34m(self, args, captured_inputs, cancellation_manager)\u001b[0m\n\u001b[0;32m   1753\u001b[0m possible_gradient_type \u001b[38;5;241m=\u001b[39m gradients_util\u001b[38;5;241m.\u001b[39mPossibleTapeGradientTypes(args)\n\u001b[0;32m   1754\u001b[0m \u001b[38;5;28;01mif\u001b[39;00m (possible_gradient_type \u001b[38;5;241m==\u001b[39m gradients_util\u001b[38;5;241m.\u001b[39mPOSSIBLE_GRADIENT_TYPES_NONE\n\u001b[0;32m   1755\u001b[0m     \u001b[38;5;129;01mand\u001b[39;00m executing_eagerly):\n\u001b[0;32m   1756\u001b[0m   \u001b[38;5;66;03m# No tape is watching; skip to running the function.\u001b[39;00m\n\u001b[1;32m-> 1757\u001b[0m   \u001b[38;5;28;01mreturn\u001b[39;00m \u001b[38;5;28mself\u001b[39m\u001b[38;5;241m.\u001b[39m_build_call_outputs(\u001b[38;5;28;43mself\u001b[39;49m\u001b[38;5;241;43m.\u001b[39;49m\u001b[43m_inference_function\u001b[49m\u001b[38;5;241;43m.\u001b[39;49m\u001b[43mcall\u001b[49m\u001b[43m(\u001b[49m\n\u001b[0;32m   1758\u001b[0m \u001b[43m      \u001b[49m\u001b[43mctx\u001b[49m\u001b[43m,\u001b[49m\u001b[43m \u001b[49m\u001b[43margs\u001b[49m\u001b[43m,\u001b[49m\u001b[43m \u001b[49m\u001b[43mcancellation_manager\u001b[49m\u001b[38;5;241;43m=\u001b[39;49m\u001b[43mcancellation_manager\u001b[49m\u001b[43m)\u001b[49m)\n\u001b[0;32m   1759\u001b[0m forward_backward \u001b[38;5;241m=\u001b[39m \u001b[38;5;28mself\u001b[39m\u001b[38;5;241m.\u001b[39m_select_forward_and_backward_functions(\n\u001b[0;32m   1760\u001b[0m     args,\n\u001b[0;32m   1761\u001b[0m     possible_gradient_type,\n\u001b[0;32m   1762\u001b[0m     executing_eagerly)\n\u001b[0;32m   1763\u001b[0m forward_function, args_with_tangents \u001b[38;5;241m=\u001b[39m forward_backward\u001b[38;5;241m.\u001b[39mforward()\n",
      "File \u001b[1;32m~\\AppData\\Roaming\\Python\\Python310\\site-packages\\tensorflow\\python\\eager\\polymorphic_function\\monomorphic_function.py:381\u001b[0m, in \u001b[0;36m_EagerDefinedFunction.call\u001b[1;34m(self, ctx, args, cancellation_manager)\u001b[0m\n\u001b[0;32m    379\u001b[0m \u001b[38;5;28;01mwith\u001b[39;00m _InterpolateFunctionError(\u001b[38;5;28mself\u001b[39m):\n\u001b[0;32m    380\u001b[0m   \u001b[38;5;28;01mif\u001b[39;00m cancellation_manager \u001b[38;5;129;01mis\u001b[39;00m \u001b[38;5;28;01mNone\u001b[39;00m:\n\u001b[1;32m--> 381\u001b[0m     outputs \u001b[38;5;241m=\u001b[39m \u001b[43mexecute\u001b[49m\u001b[38;5;241;43m.\u001b[39;49m\u001b[43mexecute\u001b[49m\u001b[43m(\u001b[49m\n\u001b[0;32m    382\u001b[0m \u001b[43m        \u001b[49m\u001b[38;5;28;43mstr\u001b[39;49m\u001b[43m(\u001b[49m\u001b[38;5;28;43mself\u001b[39;49m\u001b[38;5;241;43m.\u001b[39;49m\u001b[43msignature\u001b[49m\u001b[38;5;241;43m.\u001b[39;49m\u001b[43mname\u001b[49m\u001b[43m)\u001b[49m\u001b[43m,\u001b[49m\n\u001b[0;32m    383\u001b[0m \u001b[43m        \u001b[49m\u001b[43mnum_outputs\u001b[49m\u001b[38;5;241;43m=\u001b[39;49m\u001b[38;5;28;43mself\u001b[39;49m\u001b[38;5;241;43m.\u001b[39;49m\u001b[43m_num_outputs\u001b[49m\u001b[43m,\u001b[49m\n\u001b[0;32m    384\u001b[0m \u001b[43m        \u001b[49m\u001b[43minputs\u001b[49m\u001b[38;5;241;43m=\u001b[39;49m\u001b[43margs\u001b[49m\u001b[43m,\u001b[49m\n\u001b[0;32m    385\u001b[0m \u001b[43m        \u001b[49m\u001b[43mattrs\u001b[49m\u001b[38;5;241;43m=\u001b[39;49m\u001b[43mattrs\u001b[49m\u001b[43m,\u001b[49m\n\u001b[0;32m    386\u001b[0m \u001b[43m        \u001b[49m\u001b[43mctx\u001b[49m\u001b[38;5;241;43m=\u001b[39;49m\u001b[43mctx\u001b[49m\u001b[43m)\u001b[49m\n\u001b[0;32m    387\u001b[0m   \u001b[38;5;28;01melse\u001b[39;00m:\n\u001b[0;32m    388\u001b[0m     outputs \u001b[38;5;241m=\u001b[39m execute\u001b[38;5;241m.\u001b[39mexecute_with_cancellation(\n\u001b[0;32m    389\u001b[0m         \u001b[38;5;28mstr\u001b[39m(\u001b[38;5;28mself\u001b[39m\u001b[38;5;241m.\u001b[39msignature\u001b[38;5;241m.\u001b[39mname),\n\u001b[0;32m    390\u001b[0m         num_outputs\u001b[38;5;241m=\u001b[39m\u001b[38;5;28mself\u001b[39m\u001b[38;5;241m.\u001b[39m_num_outputs,\n\u001b[1;32m   (...)\u001b[0m\n\u001b[0;32m    393\u001b[0m         ctx\u001b[38;5;241m=\u001b[39mctx,\n\u001b[0;32m    394\u001b[0m         cancellation_manager\u001b[38;5;241m=\u001b[39mcancellation_manager)\n",
      "File \u001b[1;32m~\\AppData\\Roaming\\Python\\Python310\\site-packages\\tensorflow\\python\\eager\\execute.py:52\u001b[0m, in \u001b[0;36mquick_execute\u001b[1;34m(op_name, num_outputs, inputs, attrs, ctx, name)\u001b[0m\n\u001b[0;32m     50\u001b[0m \u001b[38;5;28;01mtry\u001b[39;00m:\n\u001b[0;32m     51\u001b[0m   ctx\u001b[38;5;241m.\u001b[39mensure_initialized()\n\u001b[1;32m---> 52\u001b[0m   tensors \u001b[38;5;241m=\u001b[39m \u001b[43mpywrap_tfe\u001b[49m\u001b[38;5;241;43m.\u001b[39;49m\u001b[43mTFE_Py_Execute\u001b[49m\u001b[43m(\u001b[49m\u001b[43mctx\u001b[49m\u001b[38;5;241;43m.\u001b[39;49m\u001b[43m_handle\u001b[49m\u001b[43m,\u001b[49m\u001b[43m \u001b[49m\u001b[43mdevice_name\u001b[49m\u001b[43m,\u001b[49m\u001b[43m \u001b[49m\u001b[43mop_name\u001b[49m\u001b[43m,\u001b[49m\n\u001b[0;32m     53\u001b[0m \u001b[43m                                      \u001b[49m\u001b[43minputs\u001b[49m\u001b[43m,\u001b[49m\u001b[43m \u001b[49m\u001b[43mattrs\u001b[49m\u001b[43m,\u001b[49m\u001b[43m \u001b[49m\u001b[43mnum_outputs\u001b[49m\u001b[43m)\u001b[49m\n\u001b[0;32m     54\u001b[0m \u001b[38;5;28;01mexcept\u001b[39;00m core\u001b[38;5;241m.\u001b[39m_NotOkStatusException \u001b[38;5;28;01mas\u001b[39;00m e:\n\u001b[0;32m     55\u001b[0m   \u001b[38;5;28;01mif\u001b[39;00m name \u001b[38;5;129;01mis\u001b[39;00m \u001b[38;5;129;01mnot\u001b[39;00m \u001b[38;5;28;01mNone\u001b[39;00m:\n",
      "\u001b[1;31mKeyboardInterrupt\u001b[0m: "
     ]
    }
   ],
   "source": [
    "model6.fit(X_train, y_train, epochs=1000, callbacks=[tb_callback])"
   ]
  },
  {
   "cell_type": "code",
   "execution_count": null,
   "id": "cd8562f2",
   "metadata": {},
   "outputs": [],
   "source": [
    "model5.summary()"
   ]
  },
  {
   "cell_type": "code",
   "execution_count": null,
   "id": "be75ac02",
   "metadata": {},
   "outputs": [],
   "source": [
    "res = model5.predict(X_test)"
   ]
  },
  {
   "cell_type": "code",
   "execution_count": null,
   "id": "b9438fcc",
   "metadata": {},
   "outputs": [],
   "source": [
    "res = model5.predict(X_test)"
   ]
  },
  {
   "cell_type": "code",
   "execution_count": null,
   "id": "5186120a",
   "metadata": {},
   "outputs": [],
   "source": [
    "actions[np.argmax(res[7])]"
   ]
  },
  {
   "cell_type": "code",
   "execution_count": null,
   "id": "a068d437",
   "metadata": {},
   "outputs": [],
   "source": [
    "actions[np.argmax(y_test[7])]"
   ]
  },
  {
   "cell_type": "code",
   "execution_count": null,
   "id": "4b4febda",
   "metadata": {},
   "outputs": [],
   "source": [
    "actions[np.argmax(res[])]"
   ]
  },
  {
   "cell_type": "code",
   "execution_count": null,
   "id": "8c385150",
   "metadata": {},
   "outputs": [],
   "source": [
    "model5.save('action.h6')"
   ]
  },
  {
   "cell_type": "markdown",
   "id": "98655625",
   "metadata": {},
   "source": [
    "# load a model "
   ]
  },
  {
   "cell_type": "code",
   "execution_count": 21,
   "id": "9a105b6c",
   "metadata": {},
   "outputs": [],
   "source": [
    "from tensorflow.keras.models import load_model\n"
   ]
  },
  {
   "cell_type": "code",
   "execution_count": 22,
   "id": "7b851a50",
   "metadata": {},
   "outputs": [],
   "source": [
    "model = load_model('action.h5')"
   ]
  },
  {
   "cell_type": "code",
   "execution_count": 23,
   "id": "7c01930c",
   "metadata": {},
   "outputs": [],
   "source": [
    "from sklearn.metrics import precision_score, recall_score"
   ]
  },
  {
   "cell_type": "code",
   "execution_count": 68,
   "id": "5d9f91a0",
   "metadata": {},
   "outputs": [
    {
     "name": "stdout",
     "output_type": "stream",
     "text": [
      "3/3 [==============================] - 1s 52ms/step\n"
     ]
    }
   ],
   "source": [
    "res = model.predict(X_test)"
   ]
  },
  {
   "cell_type": "code",
   "execution_count": 69,
   "id": "2bf9236b",
   "metadata": {},
   "outputs": [
    {
     "data": {
      "text/plain": [
       "'hearing'"
      ]
     },
     "execution_count": 69,
     "metadata": {},
     "output_type": "execute_result"
    }
   ],
   "source": [
    "actions[np.argmax(res[7])]"
   ]
  },
  {
   "cell_type": "code",
   "execution_count": 70,
   "id": "27ac4783",
   "metadata": {},
   "outputs": [
    {
     "data": {
      "text/plain": [
       "'hearing'"
      ]
     },
     "execution_count": 70,
     "metadata": {},
     "output_type": "execute_result"
    }
   ],
   "source": [
    "actions[np.argmax(y_test[7])]"
   ]
  },
  {
   "cell_type": "code",
   "execution_count": 24,
   "id": "5548d5ea",
   "metadata": {},
   "outputs": [],
   "source": [
    "from sklearn.metrics import multilabel_confusion_matrix, accuracy_score"
   ]
  },
  {
   "cell_type": "code",
   "execution_count": 74,
   "id": "28a96ac7",
   "metadata": {},
   "outputs": [
    {
     "name": "stdout",
     "output_type": "stream",
     "text": [
      "56/56 [==============================] - 3s 52ms/step\n"
     ]
    }
   ],
   "source": [
    "yhat = model.predict(X_train)"
   ]
  },
  {
   "cell_type": "code",
   "execution_count": 75,
   "id": "aad9998e",
   "metadata": {},
   "outputs": [],
   "source": [
    "ytrue = np.argmax(y_train, axis=1).tolist()\n",
    "yhat = np.argmax(yhat, axis=1).tolist()"
   ]
  },
  {
   "cell_type": "code",
   "execution_count": 76,
   "id": "972277b9",
   "metadata": {},
   "outputs": [
    {
     "data": {
      "text/plain": [
       "array([[[1725,   16],\n",
       "        [   4,   22]],\n",
       "\n",
       "       [[1738,    1],\n",
       "        [   6,   22]],\n",
       "\n",
       "       [[1738,    2],\n",
       "        [   2,   25]],\n",
       "\n",
       "       [[1734,    3],\n",
       "        [  13,   17]],\n",
       "\n",
       "       [[1738,    1],\n",
       "        [   3,   25]],\n",
       "\n",
       "       [[1738,    1],\n",
       "        [  13,   15]],\n",
       "\n",
       "       [[1736,    1],\n",
       "        [   6,   24]],\n",
       "\n",
       "       [[1733,    4],\n",
       "        [   1,   29]],\n",
       "\n",
       "       [[1734,    5],\n",
       "        [   7,   21]],\n",
       "\n",
       "       [[1717,   23],\n",
       "        [   9,   18]],\n",
       "\n",
       "       [[1736,    3],\n",
       "        [   3,   25]],\n",
       "\n",
       "       [[1733,    7],\n",
       "        [  10,   17]],\n",
       "\n",
       "       [[1723,   18],\n",
       "        [   4,   22]],\n",
       "\n",
       "       [[1725,   13],\n",
       "        [   0,   29]],\n",
       "\n",
       "       [[1739,    1],\n",
       "        [  16,   11]],\n",
       "\n",
       "       [[1735,    3],\n",
       "        [   2,   27]],\n",
       "\n",
       "       [[1732,    9],\n",
       "        [   2,   24]],\n",
       "\n",
       "       [[1727,   10],\n",
       "        [   2,   28]],\n",
       "\n",
       "       [[1737,    2],\n",
       "        [   2,   26]],\n",
       "\n",
       "       [[1733,    6],\n",
       "        [   0,   28]],\n",
       "\n",
       "       [[1734,    4],\n",
       "        [   6,   23]],\n",
       "\n",
       "       [[1736,    1],\n",
       "        [  16,   14]],\n",
       "\n",
       "       [[1735,    4],\n",
       "        [   5,   23]],\n",
       "\n",
       "       [[1738,    0],\n",
       "        [   5,   24]],\n",
       "\n",
       "       [[1728,   11],\n",
       "        [   2,   26]],\n",
       "\n",
       "       [[1736,    2],\n",
       "        [   1,   28]],\n",
       "\n",
       "       [[1737,    2],\n",
       "        [   8,   20]],\n",
       "\n",
       "       [[1732,    6],\n",
       "        [   7,   22]],\n",
       "\n",
       "       [[1736,    2],\n",
       "        [   7,   22]],\n",
       "\n",
       "       [[1731,    9],\n",
       "        [   5,   22]],\n",
       "\n",
       "       [[1736,    3],\n",
       "        [   8,   20]],\n",
       "\n",
       "       [[1734,    4],\n",
       "        [   5,   24]],\n",
       "\n",
       "       [[1733,    5],\n",
       "        [  19,   10]],\n",
       "\n",
       "       [[1732,    5],\n",
       "        [  16,   14]],\n",
       "\n",
       "       [[1739,    0],\n",
       "        [   2,   26]],\n",
       "\n",
       "       [[1739,    2],\n",
       "        [   9,   17]],\n",
       "\n",
       "       [[1736,    2],\n",
       "        [   6,   23]],\n",
       "\n",
       "       [[1738,    0],\n",
       "        [   8,   21]],\n",
       "\n",
       "       [[1734,    5],\n",
       "        [   1,   27]],\n",
       "\n",
       "       [[1732,    7],\n",
       "        [   5,   23]],\n",
       "\n",
       "       [[1728,   12],\n",
       "        [   4,   23]],\n",
       "\n",
       "       [[1737,    0],\n",
       "        [   6,   24]],\n",
       "\n",
       "       [[1732,    6],\n",
       "        [   7,   22]],\n",
       "\n",
       "       [[1730,    8],\n",
       "        [   2,   27]],\n",
       "\n",
       "       [[1727,   11],\n",
       "        [  13,   16]],\n",
       "\n",
       "       [[1734,    5],\n",
       "        [   4,   24]],\n",
       "\n",
       "       [[1731,    8],\n",
       "        [  10,   18]],\n",
       "\n",
       "       [[1731,    6],\n",
       "        [   0,   30]],\n",
       "\n",
       "       [[1726,   12],\n",
       "        [   3,   26]],\n",
       "\n",
       "       [[1728,   10],\n",
       "        [  10,   19]],\n",
       "\n",
       "       [[1736,    1],\n",
       "        [   1,   29]],\n",
       "\n",
       "       [[1716,   21],\n",
       "        [   8,   22]],\n",
       "\n",
       "       [[1736,    4],\n",
       "        [   2,   25]],\n",
       "\n",
       "       [[1733,    5],\n",
       "        [   2,   27]],\n",
       "\n",
       "       [[1737,    1],\n",
       "        [   1,   28]],\n",
       "\n",
       "       [[1734,    3],\n",
       "        [   5,   25]],\n",
       "\n",
       "       [[1736,    1],\n",
       "        [   3,   27]],\n",
       "\n",
       "       [[1722,   17],\n",
       "        [   5,   23]],\n",
       "\n",
       "       [[1733,    4],\n",
       "        [  15,   15]],\n",
       "\n",
       "       [[1732,    6],\n",
       "        [   2,   27]],\n",
       "\n",
       "       [[1727,   12],\n",
       "        [   2,   26]],\n",
       "\n",
       "       [[1729,    9],\n",
       "        [  14,   15]]], dtype=int64)"
      ]
     },
     "execution_count": 76,
     "metadata": {},
     "output_type": "execute_result"
    }
   ],
   "source": [
    "multilabel_confusion_matrix(ytrue, yhat)"
   ]
  },
  {
   "cell_type": "code",
   "execution_count": 83,
   "id": "e48b42a1",
   "metadata": {},
   "outputs": [
    {
     "data": {
      "text/plain": [
       "0.7934352009054896"
      ]
     },
     "execution_count": 83,
     "metadata": {},
     "output_type": "execute_result"
    }
   ],
   "source": [
    "accuracy_score(ytrue, yhat)"
   ]
  },
  {
   "cell_type": "markdown",
   "id": "793d7033",
   "metadata": {},
   "source": [
    "# Calculate precision:"
   ]
  },
  {
   "cell_type": "code",
   "execution_count": 92,
   "id": "0ba89886",
   "metadata": {},
   "outputs": [],
   "source": [
    "precision = precision_score(ytrue, yhat, average='macro')"
   ]
  },
  {
   "cell_type": "code",
   "execution_count": 93,
   "id": "d1c1489c",
   "metadata": {},
   "outputs": [
    {
     "data": {
      "text/plain": [
       "0.8115839989193023"
      ]
     },
     "execution_count": 93,
     "metadata": {},
     "output_type": "execute_result"
    }
   ],
   "source": [
    "precision"
   ]
  },
  {
   "cell_type": "code",
   "execution_count": 94,
   "id": "3e557951",
   "metadata": {},
   "outputs": [],
   "source": [
    "recall = recall_score(ytrue,yhat,average='macro')"
   ]
  },
  {
   "cell_type": "code",
   "execution_count": 95,
   "id": "9999c63e",
   "metadata": {},
   "outputs": [
    {
     "data": {
      "text/plain": [
       "0.7937972051431451"
      ]
     },
     "execution_count": 95,
     "metadata": {},
     "output_type": "execute_result"
    }
   ],
   "source": [
    "recall"
   ]
  },
  {
   "cell_type": "markdown",
   "id": "fd2fd400",
   "metadata": {},
   "source": [
    "# test the model"
   ]
  },
  {
   "cell_type": "code",
   "execution_count": 25,
   "id": "2775b86c",
   "metadata": {},
   "outputs": [],
   "source": [
    "def draw_styled_landmarks(image, results):\n",
    "    # Draw face connections\n",
    "    mp_drawing.draw_landmarks(image, results.face_landmarks, mp_holistic.FACEMESH_CONTOURS, \n",
    "                             mp_drawing.DrawingSpec(color=(80,110,10), thickness=1, circle_radius=1), \n",
    "                             mp_drawing.DrawingSpec(color=(80,256,121), thickness=1, circle_radius=1)\n",
    "                             ) \n",
    "    # Draw pose connections\n",
    "    mp_drawing.draw_landmarks(image, results.pose_landmarks, mp_holistic.POSE_CONNECTIONS,\n",
    "                             mp_drawing.DrawingSpec(color=(80,22,10), thickness=2, circle_radius=4), \n",
    "                             mp_drawing.DrawingSpec(color=(80,44,121), thickness=2, circle_radius=2)\n",
    "                             ) \n",
    "    # Draw left hand connections\n",
    "    mp_drawing.draw_landmarks(image, results.left_hand_landmarks, mp_holistic.HAND_CONNECTIONS, \n",
    "                             mp_drawing.DrawingSpec(color=(121,22,76), thickness=2, circle_radius=4), \n",
    "                             mp_drawing.DrawingSpec(color=(121,44,250), thickness=2, circle_radius=2)\n",
    "                             ) \n",
    "    # Draw right hand connections  \n",
    "    mp_drawing.draw_landmarks(image, results.right_hand_landmarks, mp_holistic.HAND_CONNECTIONS, \n",
    "                             mp_drawing.DrawingSpec(color=(245,117,66), thickness=2, circle_radius=4), \n",
    "                             mp_drawing.DrawingSpec(color=(245,66,230), thickness=2, circle_radius=2)\n",
    "                             ) "
   ]
  },
  {
   "cell_type": "code",
   "execution_count": 26,
   "id": "51c5e330",
   "metadata": {},
   "outputs": [],
   "source": [
    "colors = [(245,117,16), (117,245,16), (16,117,245),(245,117,16), (117,245,16), (16,117,245),(245,117,16), (117,245,16), (16,117,245),(245,117,16), (117,245,16), (16,117,245),(245,117,16), (117,245,16), (16,117,245),(245,117,16), (117,245,16), (16,117,245),(245,117,16), (117,245,16), (16,117,245),(245,117,16), (117,245,16), (16,117,245),(245,117,16), (117,245,16), (16,117,245),(245,117,16), (117,245,16), (16,117,245),(245,117,16), (117,245,16), (16,117,245),(245,117,16), (117,245,16), (16,117,245),(245,117,16), (117,245,16), (16,117,245),(245,117,16), (117,245,16), (16,117,245),(245,117,16), (117,245,16), (16,117,245),(245,117,16), (117,245,16), (16,117,245),(245,117,16), (117,245,16), (16,117,245),(245,117,16), (117,245,16), (16,117,245),(245,117,16), (117,245,16), (16,117,245),(245,117,16), (117,245,16), (16,117,245),(245,117,16),(245,117,16)]\n",
    "\n",
    "def prob_viz(res, actions, input_frame, colors):\n",
    "    output_frame = input_frame.copy()\n",
    "    for num, prob in enumerate(res):\n",
    "        cv2.rectangle(output_frame, (0,60+num*40), (int(prob*100), 90+num*40), colors[num], -1)\n",
    "        cv2.putText(output_frame, actions[num], (0, 85+num*40), cv2.FONT_HERSHEY_SIMPLEX, 1, (255,255,255), 2, cv2.LINE_AA)\n",
    "        \n",
    "    return output_frame"
   ]
  },
  {
   "cell_type": "code",
   "execution_count": 27,
   "id": "462230cf",
   "metadata": {},
   "outputs": [
    {
     "data": {
      "text/plain": [
       "62"
      ]
     },
     "execution_count": 27,
     "metadata": {},
     "output_type": "execute_result"
    }
   ],
   "source": [
    "len(colors)"
   ]
  },
  {
   "cell_type": "code",
   "execution_count": 100,
   "id": "6485c6a9",
   "metadata": {},
   "outputs": [
    {
     "ename": "NameError",
     "evalue": "name 'frame' is not defined",
     "output_type": "error",
     "traceback": [
      "\u001b[1;31m---------------------------------------------------------------------------\u001b[0m",
      "\u001b[1;31mNameError\u001b[0m                                 Traceback (most recent call last)",
      "Cell \u001b[1;32mIn[100], line 1\u001b[0m\n\u001b[1;32m----> 1\u001b[0m \u001b[43mframe\u001b[49m\n",
      "\u001b[1;31mNameError\u001b[0m: name 'frame' is not defined"
     ]
    }
   ],
   "source": [
    "frame"
   ]
  },
  {
   "cell_type": "code",
   "execution_count": 28,
   "id": "fe278fab",
   "metadata": {},
   "outputs": [
    {
     "name": "stdout",
     "output_type": "stream",
     "text": [
      "Defaulting to user installation because normal site-packages is not writeable\n",
      "Requirement already satisfied: mediapipe in c:\\users\\acer\\appdata\\roaming\\python\\python310\\site-packages (0.9.2.1)\n",
      "Requirement already satisfied: absl-py in c:\\users\\acer\\appdata\\roaming\\python\\python310\\site-packages (from mediapipe) (1.4.0)\n",
      "Requirement already satisfied: attrs>=19.1.0 in c:\\programdata\\anaconda3\\lib\\site-packages (from mediapipe) (22.1.0)\n",
      "Requirement already satisfied: flatbuffers>=2.0 in c:\\users\\acer\\appdata\\roaming\\python\\python310\\site-packages (from mediapipe) (23.3.3)\n",
      "Requirement already satisfied: matplotlib in c:\\users\\acer\\appdata\\roaming\\python\\python310\\site-packages (from mediapipe) (3.7.1)\n",
      "Requirement already satisfied: numpy in c:\\programdata\\anaconda3\\lib\\site-packages (from mediapipe) (1.23.5)\n",
      "Requirement already satisfied: opencv-contrib-python in c:\\users\\acer\\appdata\\roaming\\python\\python310\\site-packages (from mediapipe) (4.7.0.72)\n",
      "Requirement already satisfied: protobuf<4,>=3.11 in c:\\users\\acer\\appdata\\roaming\\python\\python310\\site-packages (from mediapipe) (3.20.3)\n",
      "Requirement already satisfied: contourpy>=1.0.1 in c:\\programdata\\anaconda3\\lib\\site-packages (from matplotlib->mediapipe) (1.0.5)\n",
      "Requirement already satisfied: cycler>=0.10 in c:\\programdata\\anaconda3\\lib\\site-packages (from matplotlib->mediapipe) (0.11.0)\n",
      "Requirement already satisfied: fonttools>=4.22.0 in c:\\programdata\\anaconda3\\lib\\site-packages (from matplotlib->mediapipe) (4.25.0)\n",
      "Requirement already satisfied: kiwisolver>=1.0.1 in c:\\programdata\\anaconda3\\lib\\site-packages (from matplotlib->mediapipe) (1.4.4)\n",
      "Requirement already satisfied: packaging>=20.0 in c:\\programdata\\anaconda3\\lib\\site-packages (from matplotlib->mediapipe) (22.0)\n",
      "Requirement already satisfied: pillow>=6.2.0 in c:\\programdata\\anaconda3\\lib\\site-packages (from matplotlib->mediapipe) (9.4.0)\n",
      "Requirement already satisfied: pyparsing>=2.3.1 in c:\\programdata\\anaconda3\\lib\\site-packages (from matplotlib->mediapipe) (3.0.9)\n",
      "Requirement already satisfied: python-dateutil>=2.7 in c:\\programdata\\anaconda3\\lib\\site-packages (from matplotlib->mediapipe) (2.8.2)\n",
      "Requirement already satisfied: six>=1.5 in c:\\programdata\\anaconda3\\lib\\site-packages (from python-dateutil>=2.7->matplotlib->mediapipe) (1.16.0)\n",
      "Note: you may need to restart the kernel to use updated packages.\n"
     ]
    }
   ],
   "source": [
    "pip install mediapipe"
   ]
  },
  {
   "cell_type": "code",
   "execution_count": 29,
   "id": "35bb2d8f",
   "metadata": {},
   "outputs": [],
   "source": [
    "def mediapipe_detection(image, model):\n",
    "    image = cv2.cvtColor(image, cv2.COLOR_BGR2RGB) # COLOR CONVERSION BGR 2 RGB to work with mediapip\n",
    "    image.flags.writeable = False                  # Image is no longer writeable\n",
    "    results = model.process(image)                 # Make prediction\n",
    "    image.flags.writeable = True                   # Image is now writeable \n",
    "    image = cv2.cvtColor(image, cv2.COLOR_RGB2BGR) # COLOR COVERSION RGB 2 BGR\n",
    "    return image, results"
   ]
  },
  {
   "cell_type": "code",
   "execution_count": 30,
   "id": "d171cc26",
   "metadata": {},
   "outputs": [],
   "source": [
    "def draw_styled_landmarks(image, results):\n",
    "    # Draw face connections\n",
    "    mp_drawing.draw_landmarks(image, results.face_landmarks, mp_holistic.FACEMESH_CONTOURS, \n",
    "                             mp_drawing.DrawingSpec(color=(80,110,10), thickness=1, circle_radius=1), \n",
    "                             mp_drawing.DrawingSpec(color=(80,256,121), thickness=1, circle_radius=1)\n",
    "                             ) \n",
    "    # Draw pose connections\n",
    "    mp_drawing.draw_landmarks(image, results.pose_landmarks, mp_holistic.POSE_CONNECTIONS,\n",
    "                             mp_drawing.DrawingSpec(color=(80,22,10), thickness=2, circle_radius=4), \n",
    "                             mp_drawing.DrawingSpec(color=(80,44,121), thickness=2, circle_radius=2)\n",
    "                             ) \n",
    "    # Draw left hand connections\n",
    "    mp_drawing.draw_landmarks(image, results.left_hand_landmarks, mp_holistic.HAND_CONNECTIONS, \n",
    "                             mp_drawing.DrawingSpec(color=(121,22,76), thickness=2, circle_radius=4), \n",
    "                             mp_drawing.DrawingSpec(color=(121,44,250), thickness=2, circle_radius=2)\n",
    "                             ) \n",
    "    # Draw right hand connections  \n",
    "    mp_drawing.draw_landmarks(image, results.right_hand_landmarks, mp_holistic.HAND_CONNECTIONS, \n",
    "                             mp_drawing.DrawingSpec(color=(245,117,66), thickness=2, circle_radius=4), \n",
    "                             mp_drawing.DrawingSpec(color=(245,66,230), thickness=2, circle_radius=2)\n",
    "                             ) "
   ]
  },
  {
   "cell_type": "code",
   "execution_count": 31,
   "id": "6dab7420",
   "metadata": {},
   "outputs": [],
   "source": [
    "def extract_keypoints(results):\n",
    "    pose = np.array([[res.x, res.y, res.z, res.visibility] for res in results.pose_landmarks.landmark]).flatten() if results.pose_landmarks else np.zeros(33*4)\n",
    "    face = np.array([[res.x, res.y, res.z] for res in results.face_landmarks.landmark]).flatten() if results.face_landmarks else np.zeros(468*3)\n",
    "    lh = np.array([[res.x, res.y, res.z] for res in results.left_hand_landmarks.landmark]).flatten() if results.left_hand_landmarks else np.zeros(21*3)\n",
    "    rh = np.array([[res.x, res.y, res.z] for res in results.right_hand_landmarks.landmark]).flatten() if results.right_hand_landmarks else np.zeros(21*3)\n",
    "    return np.concatenate([pose, face, lh, rh]) #to concatenate our landmarks"
   ]
  },
  {
   "cell_type": "code",
   "execution_count": 32,
   "id": "b2169e09",
   "metadata": {},
   "outputs": [],
   "source": [
    "mp_holistic = mp.solutions.holistic # Holistic model\n",
    "mp_drawing = mp.solutions.drawing_utils # Drawing utilities"
   ]
  },
  {
   "cell_type": "code",
   "execution_count": 33,
   "id": "0de5c405",
   "metadata": {},
   "outputs": [],
   "source": [
    "import time"
   ]
  },
  {
   "cell_type": "code",
   "execution_count": 52,
   "id": "846bea74",
   "metadata": {},
   "outputs": [
    {
     "ename": "IndentationError",
     "evalue": "unindent does not match any outer indentation level (<tokenize>, line 43)",
     "output_type": "error",
     "traceback": [
      "\u001b[1;36m  File \u001b[1;32m<tokenize>:43\u001b[1;36m\u001b[0m\n\u001b[1;33m    if res[np.argmax(res)] > threshold:\u001b[0m\n\u001b[1;37m    ^\u001b[0m\n\u001b[1;31mIndentationError\u001b[0m\u001b[1;31m:\u001b[0m unindent does not match any outer indentation level\n"
     ]
    }
   ],
   "source": [
    "# 1. New detection variables\n",
    "sequence = []\n",
    "sentence = []\n",
    "threshold = 0.8\n",
    "\n",
    "cap = cv2.VideoCapture(0)\n",
    "# Set mediapipe model \n",
    "with mp_holistic.Holistic(min_detection_confidence=0.5, min_tracking_confidence=0.5) as holistic:\n",
    "    while cap.isOpened():\n",
    "\n",
    "        # Read feed\n",
    "        ret, frame = cap.read()\n",
    "\n",
    "        # Make detections\n",
    "        image, results = mediapipe_detection(frame, holistic)\n",
    "        print(results)\n",
    "        \n",
    "        # Draw landmarks\n",
    "        draw_styled_landmarks(image, results)\n",
    "        \n",
    "        # 2. Prediction logic\n",
    "        keypoints = extract_keypoints(results)\n",
    "#         sequence.insert(0,keypoints)\n",
    "#         sequence = sequence[:30]\n",
    "        sequence.append(keypoints)\n",
    "        sequence = sequence[-30:]\n",
    "        \n",
    "        current_result = None\n",
    "        last_prediction_time = time.time()\n",
    "\n",
    "        # Inside the main loop\n",
    "        if len(sequence) == 30:\n",
    "            if time.time() - last_prediction_time >= 5:\n",
    "                                                         res = model.predict(np.expand_dims(sequence, axis=0))[0]\n",
    "                                                          print(actions[np.argmax(res)])\n",
    "\n",
    "                                                            # Update the current result\n",
    "                                                             current_result = actions[np.argmax(res)]\n",
    "    \n",
    "                                                             # Reset the sentence list\n",
    "                                                                 sentence =[]\n",
    "                 # Check if the current result probability exceeds the threshold\n",
    "                                                               if res[np.argmax(res)] > threshold:\n",
    "                                                                                           sentence.append(current_result)\n",
    "                   # Viz probabilities and perform visualization\n",
    "                 # Display the current result on the video frame\n",
    "        cv2.putText(image, current_result, (3, 30), \n",
    "        cv2.FONT_HERSHEY_SIMPLEX, 1, (255, 255, 255), 2, cv2.LINE_AA)\n",
    "\n",
    "       \n",
    "        \n",
    "        # Show to screen\n",
    "        cv2.imshow('OpenCV Feed', image)\n",
    "\n",
    "        # Break gracefully\n",
    "        if cv2.waitKey(10) & 0xFF == ord('q'):\n",
    "            break\n",
    "    cap.release()\n",
    "    cv2.destroyAllWindows()"
   ]
  },
  {
   "cell_type": "code",
   "execution_count": null,
   "id": "1ee5b79d",
   "metadata": {},
   "outputs": [],
   "source": []
  }
 ],
 "metadata": {
  "kernelspec": {
   "display_name": "Python 3 (ipykernel)",
   "language": "python",
   "name": "python3"
  },
  "language_info": {
   "codemirror_mode": {
    "name": "ipython",
    "version": 3
   },
   "file_extension": ".py",
   "mimetype": "text/x-python",
   "name": "python",
   "nbconvert_exporter": "python",
   "pygments_lexer": "ipython3",
   "version": "3.10.9"
  }
 },
 "nbformat": 4,
 "nbformat_minor": 5
}
